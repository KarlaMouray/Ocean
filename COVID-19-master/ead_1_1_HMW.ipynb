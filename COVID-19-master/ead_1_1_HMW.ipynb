{
  "cells": [
    {
      "cell_type": "markdown",
      "metadata": {
        "id": "view-in-github",
        "colab_type": "text"
      },
      "source": [
        "<a href=\"https://colab.research.google.com/github/HWatanuki/COVID-19/blob/master/ead_1_1_HMW.ipynb\" target=\"_parent\"><img src=\"https://colab.research.google.com/assets/colab-badge.svg\" alt=\"Open In Colab\"/></a>"
      ]
    },
    {
      "cell_type": "markdown",
      "id": "fluid-thanks",
      "metadata": {
        "id": "fluid-thanks"
      },
      "source": [
        "**IFSP Campinas** <br/>\n",
        "**D1INT: Introdução à Ciênciad de Dados (2022.1)** <br/>\n",
        "\n",
        "\n",
        "Profs: Everton Silva <br/>\n",
        "\n",
        "**Notebook produzido/adaptado de**: https://github.com/prof-samuka-IFSP/IFSP-CMP-D1AED-2022.1\n",
        "\n",
        "<a rel=\"license\" href=\"http://creativecommons.org/licenses/by-nc-sa/4.0/\"><img alt=\"Creative Commons License\" style=\"border-width:0\" src=\"https://i.creativecommons.org/l/by-nc-sa/4.0/88x31.png\" /></a><br />This work is licensed under a <a rel=\"license\" href=\"http://creativecommons.org/licenses/by-nc-sa/4.0/\">Creative Commons Attribution-NonCommercial-ShareAlike"
      ]
    },
    {
      "cell_type": "markdown",
      "id": "9e9aa5e0-8e91-4293-a9b3-be3bffffa6bd",
      "metadata": {
        "id": "9e9aa5e0-8e91-4293-a9b3-be3bffffa6bd"
      },
      "source": [
        "## Pipeline de Ciência de Dados\n",
        "<a><img alt=\"Pipeline de Ciência de Dados\" src=\"./pipeline - ciência de dados.png\" width=\"800\" height=\"600\" /></a>"
      ]
    },
    {
      "cell_type": "markdown",
      "id": "8e576f8e-4618-4e6d-975d-6eb2e3298c3c",
      "metadata": {
        "id": "8e576f8e-4618-4e6d-975d-6eb2e3298c3c"
      },
      "source": [
        "## Análise Exploratória de Dados\n",
        "\n",
        "Com nossa base de dados limpa, vamos explorar nossos dados :) <br/>\n",
        "\n",
        "A **Análise Exploratória de Dados (EDA)** é uma etapa do pipeline em ciência de dados utilizada para entender o conjunto de dados facilmente, encontrar padrões, identificar outliers e explorar a relação entre variáveis usando técnicas não gráficas e gráficas. Essa etapa também pode ser útil para identificarmos quais atributos devem ser considerados para uso em nosso modelo de aprendizado de máquina (seleção de atributos).\n",
        "\n",
        "Neste notebook, realizaremos uma **Análise Exploratória de Dados** em um conjunto de dados sobre aplicativos da Google Play Store. Nosso objetivo é responder algumas perguntas e hipóteses sobre o dataset. Para isso, analisaremos as variáveis do dataset em diferentes cenários, utilizando um ferramental que envolve a manipulação de dados, estatísticas descritivas e visualizações. <br/>\n",
        "\n",
        "Como suporte para visualização:\n",
        "- https://datavizcatalogue.com/\n",
        "- https://www.python-graph-gallery.com/"
      ]
    },
    {
      "cell_type": "markdown",
      "id": "ffd22689-b200-40cc-8b47-2b532c221c47",
      "metadata": {
        "id": "ffd22689-b200-40cc-8b47-2b532c221c47"
      },
      "source": [
        "## Importações"
      ]
    },
    {
      "cell_type": "code",
      "execution_count": 3,
      "id": "purple-worst",
      "metadata": {
        "id": "purple-worst"
      },
      "outputs": [],
      "source": [
        "# pacotes usados neste notebook\n",
        "import pandas as pd\n",
        "import numpy as np\n",
        "import seaborn as sns\n",
        "import matplotlib.pyplot as plt"
      ]
    },
    {
      "cell_type": "markdown",
      "id": "collective-shock",
      "metadata": {
        "id": "collective-shock"
      },
      "source": [
        "## 1. Dataset"
      ]
    },
    {
      "cell_type": "markdown",
      "id": "executed-balance",
      "metadata": {
        "id": "executed-balance"
      },
      "source": [
        "**Dataset**: Google Play Store Apps: https://www.kaggle.com/lava18/google-play-store-apps <br/>\n",
        "\n",
        "Este dataset contém dados sobre aplicativos da Google Play Store. <br/>\n",
        "Cada *observação (registro/linha)* consiste de informações de um app, tais como categoria, avaliação, tamanho, entre outros."
      ]
    },
    {
      "cell_type": "markdown",
      "id": "settled-stanley",
      "metadata": {
        "id": "settled-stanley"
      },
      "source": [
        "### 1.1 Importando o Dataset"
      ]
    },
    {
      "cell_type": "code",
      "execution_count": 6,
      "id": "addressed-mercy",
      "metadata": {
        "id": "addressed-mercy"
      },
      "outputs": [],
      "source": [
        "df = pd.read_csv(\"/content/sample_data/googleplaystore_preprocessado.csv\")"
      ]
    },
    {
      "cell_type": "code",
      "execution_count": 5,
      "id": "environmental-spouse",
      "metadata": {
        "colab": {
          "base_uri": "https://localhost:8080/",
          "height": 617
        },
        "id": "environmental-spouse",
        "outputId": "6c4a3092-6a27-49f2-b1c5-54b8b8cbdb84"
      },
      "outputs": [
        {
          "output_type": "execute_result",
          "data": {
            "text/plain": [
              "                                                 App        Category  Rating  \\\n",
              "0     Photo Editor & Candy Camera & Grid & ScrapBook  ART_AND_DESIGN     4.1   \n",
              "1                                Coloring book moana  ART_AND_DESIGN     3.9   \n",
              "2  U Launcher Lite – FREE Live Cool Themes, Hide ...  ART_AND_DESIGN     4.7   \n",
              "3                              Sketch - Draw & Paint  ART_AND_DESIGN     4.5   \n",
              "4              Pixel Draw - Number Art Coloring Book  ART_AND_DESIGN     4.3   \n",
              "\n",
              "    Reviews        Size  Installs  Type  Price Content Rating Last Updated  \\\n",
              "0     159.0  19000000.0     10000  Free    0.0       Everyone   2018-01-07   \n",
              "1     967.0  14000000.0    500000  Free    0.0       Everyone   2018-01-15   \n",
              "2   87510.0   8700000.0   5000000  Free    0.0       Everyone   2018-08-01   \n",
              "3  215644.0  25000000.0  50000000  Free    0.0           Teen   2018-06-08   \n",
              "4     967.0   2800000.0    100000  Free    0.0       Everyone   2018-06-20   \n",
              "\n",
              "          Current Ver   Android Ver   First_Genre     Sec_Genre  \n",
              "0               1.0.0  4.0.3 and up  Art & Design  Art & Design  \n",
              "1               2.0.0  4.0.3 and up  Art & Design  Pretend Play  \n",
              "2               1.2.4  4.0.3 and up  Art & Design  Art & Design  \n",
              "3  Varies with device    4.2 and up  Art & Design  Art & Design  \n",
              "4                 1.1    4.4 and up  Art & Design    Creativity  "
            ],
            "text/html": [
              "\n",
              "  <div id=\"df-e2c371a6-0953-43dd-bf52-369e97458c17\">\n",
              "    <div class=\"colab-df-container\">\n",
              "      <div>\n",
              "<style scoped>\n",
              "    .dataframe tbody tr th:only-of-type {\n",
              "        vertical-align: middle;\n",
              "    }\n",
              "\n",
              "    .dataframe tbody tr th {\n",
              "        vertical-align: top;\n",
              "    }\n",
              "\n",
              "    .dataframe thead th {\n",
              "        text-align: right;\n",
              "    }\n",
              "</style>\n",
              "<table border=\"1\" class=\"dataframe\">\n",
              "  <thead>\n",
              "    <tr style=\"text-align: right;\">\n",
              "      <th></th>\n",
              "      <th>App</th>\n",
              "      <th>Category</th>\n",
              "      <th>Rating</th>\n",
              "      <th>Reviews</th>\n",
              "      <th>Size</th>\n",
              "      <th>Installs</th>\n",
              "      <th>Type</th>\n",
              "      <th>Price</th>\n",
              "      <th>Content Rating</th>\n",
              "      <th>Last Updated</th>\n",
              "      <th>Current Ver</th>\n",
              "      <th>Android Ver</th>\n",
              "      <th>First_Genre</th>\n",
              "      <th>Sec_Genre</th>\n",
              "    </tr>\n",
              "  </thead>\n",
              "  <tbody>\n",
              "    <tr>\n",
              "      <th>0</th>\n",
              "      <td>Photo Editor &amp; Candy Camera &amp; Grid &amp; ScrapBook</td>\n",
              "      <td>ART_AND_DESIGN</td>\n",
              "      <td>4.1</td>\n",
              "      <td>159.0</td>\n",
              "      <td>19000000.0</td>\n",
              "      <td>10000</td>\n",
              "      <td>Free</td>\n",
              "      <td>0.0</td>\n",
              "      <td>Everyone</td>\n",
              "      <td>2018-01-07</td>\n",
              "      <td>1.0.0</td>\n",
              "      <td>4.0.3 and up</td>\n",
              "      <td>Art &amp; Design</td>\n",
              "      <td>Art &amp; Design</td>\n",
              "    </tr>\n",
              "    <tr>\n",
              "      <th>1</th>\n",
              "      <td>Coloring book moana</td>\n",
              "      <td>ART_AND_DESIGN</td>\n",
              "      <td>3.9</td>\n",
              "      <td>967.0</td>\n",
              "      <td>14000000.0</td>\n",
              "      <td>500000</td>\n",
              "      <td>Free</td>\n",
              "      <td>0.0</td>\n",
              "      <td>Everyone</td>\n",
              "      <td>2018-01-15</td>\n",
              "      <td>2.0.0</td>\n",
              "      <td>4.0.3 and up</td>\n",
              "      <td>Art &amp; Design</td>\n",
              "      <td>Pretend Play</td>\n",
              "    </tr>\n",
              "    <tr>\n",
              "      <th>2</th>\n",
              "      <td>U Launcher Lite – FREE Live Cool Themes, Hide ...</td>\n",
              "      <td>ART_AND_DESIGN</td>\n",
              "      <td>4.7</td>\n",
              "      <td>87510.0</td>\n",
              "      <td>8700000.0</td>\n",
              "      <td>5000000</td>\n",
              "      <td>Free</td>\n",
              "      <td>0.0</td>\n",
              "      <td>Everyone</td>\n",
              "      <td>2018-08-01</td>\n",
              "      <td>1.2.4</td>\n",
              "      <td>4.0.3 and up</td>\n",
              "      <td>Art &amp; Design</td>\n",
              "      <td>Art &amp; Design</td>\n",
              "    </tr>\n",
              "    <tr>\n",
              "      <th>3</th>\n",
              "      <td>Sketch - Draw &amp; Paint</td>\n",
              "      <td>ART_AND_DESIGN</td>\n",
              "      <td>4.5</td>\n",
              "      <td>215644.0</td>\n",
              "      <td>25000000.0</td>\n",
              "      <td>50000000</td>\n",
              "      <td>Free</td>\n",
              "      <td>0.0</td>\n",
              "      <td>Teen</td>\n",
              "      <td>2018-06-08</td>\n",
              "      <td>Varies with device</td>\n",
              "      <td>4.2 and up</td>\n",
              "      <td>Art &amp; Design</td>\n",
              "      <td>Art &amp; Design</td>\n",
              "    </tr>\n",
              "    <tr>\n",
              "      <th>4</th>\n",
              "      <td>Pixel Draw - Number Art Coloring Book</td>\n",
              "      <td>ART_AND_DESIGN</td>\n",
              "      <td>4.3</td>\n",
              "      <td>967.0</td>\n",
              "      <td>2800000.0</td>\n",
              "      <td>100000</td>\n",
              "      <td>Free</td>\n",
              "      <td>0.0</td>\n",
              "      <td>Everyone</td>\n",
              "      <td>2018-06-20</td>\n",
              "      <td>1.1</td>\n",
              "      <td>4.4 and up</td>\n",
              "      <td>Art &amp; Design</td>\n",
              "      <td>Creativity</td>\n",
              "    </tr>\n",
              "  </tbody>\n",
              "</table>\n",
              "</div>\n",
              "      <button class=\"colab-df-convert\" onclick=\"convertToInteractive('df-e2c371a6-0953-43dd-bf52-369e97458c17')\"\n",
              "              title=\"Convert this dataframe to an interactive table.\"\n",
              "              style=\"display:none;\">\n",
              "        \n",
              "  <svg xmlns=\"http://www.w3.org/2000/svg\" height=\"24px\"viewBox=\"0 0 24 24\"\n",
              "       width=\"24px\">\n",
              "    <path d=\"M0 0h24v24H0V0z\" fill=\"none\"/>\n",
              "    <path d=\"M18.56 5.44l.94 2.06.94-2.06 2.06-.94-2.06-.94-.94-2.06-.94 2.06-2.06.94zm-11 1L8.5 8.5l.94-2.06 2.06-.94-2.06-.94L8.5 2.5l-.94 2.06-2.06.94zm10 10l.94 2.06.94-2.06 2.06-.94-2.06-.94-.94-2.06-.94 2.06-2.06.94z\"/><path d=\"M17.41 7.96l-1.37-1.37c-.4-.4-.92-.59-1.43-.59-.52 0-1.04.2-1.43.59L10.3 9.45l-7.72 7.72c-.78.78-.78 2.05 0 2.83L4 21.41c.39.39.9.59 1.41.59.51 0 1.02-.2 1.41-.59l7.78-7.78 2.81-2.81c.8-.78.8-2.07 0-2.86zM5.41 20L4 18.59l7.72-7.72 1.47 1.35L5.41 20z\"/>\n",
              "  </svg>\n",
              "      </button>\n",
              "      \n",
              "  <style>\n",
              "    .colab-df-container {\n",
              "      display:flex;\n",
              "      flex-wrap:wrap;\n",
              "      gap: 12px;\n",
              "    }\n",
              "\n",
              "    .colab-df-convert {\n",
              "      background-color: #E8F0FE;\n",
              "      border: none;\n",
              "      border-radius: 50%;\n",
              "      cursor: pointer;\n",
              "      display: none;\n",
              "      fill: #1967D2;\n",
              "      height: 32px;\n",
              "      padding: 0 0 0 0;\n",
              "      width: 32px;\n",
              "    }\n",
              "\n",
              "    .colab-df-convert:hover {\n",
              "      background-color: #E2EBFA;\n",
              "      box-shadow: 0px 1px 2px rgba(60, 64, 67, 0.3), 0px 1px 3px 1px rgba(60, 64, 67, 0.15);\n",
              "      fill: #174EA6;\n",
              "    }\n",
              "\n",
              "    [theme=dark] .colab-df-convert {\n",
              "      background-color: #3B4455;\n",
              "      fill: #D2E3FC;\n",
              "    }\n",
              "\n",
              "    [theme=dark] .colab-df-convert:hover {\n",
              "      background-color: #434B5C;\n",
              "      box-shadow: 0px 1px 3px 1px rgba(0, 0, 0, 0.15);\n",
              "      filter: drop-shadow(0px 1px 2px rgba(0, 0, 0, 0.3));\n",
              "      fill: #FFFFFF;\n",
              "    }\n",
              "  </style>\n",
              "\n",
              "      <script>\n",
              "        const buttonEl =\n",
              "          document.querySelector('#df-e2c371a6-0953-43dd-bf52-369e97458c17 button.colab-df-convert');\n",
              "        buttonEl.style.display =\n",
              "          google.colab.kernel.accessAllowed ? 'block' : 'none';\n",
              "\n",
              "        async function convertToInteractive(key) {\n",
              "          const element = document.querySelector('#df-e2c371a6-0953-43dd-bf52-369e97458c17');\n",
              "          const dataTable =\n",
              "            await google.colab.kernel.invokeFunction('convertToInteractive',\n",
              "                                                     [key], {});\n",
              "          if (!dataTable) return;\n",
              "\n",
              "          const docLinkHtml = 'Like what you see? Visit the ' +\n",
              "            '<a target=\"_blank\" href=https://colab.research.google.com/notebooks/data_table.ipynb>data table notebook</a>'\n",
              "            + ' to learn more about interactive tables.';\n",
              "          element.innerHTML = '';\n",
              "          dataTable['output_type'] = 'display_data';\n",
              "          await google.colab.output.renderOutput(dataTable, element);\n",
              "          const docLink = document.createElement('div');\n",
              "          docLink.innerHTML = docLinkHtml;\n",
              "          element.appendChild(docLink);\n",
              "        }\n",
              "      </script>\n",
              "    </div>\n",
              "  </div>\n",
              "  "
            ]
          },
          "metadata": {},
          "execution_count": 5
        }
      ],
      "source": [
        "df.head()"
      ]
    },
    {
      "cell_type": "markdown",
      "id": "widespread-violin",
      "metadata": {
        "id": "widespread-violin"
      },
      "source": [
        "### 1.2 Informações sobre o conjunto de dados"
      ]
    },
    {
      "cell_type": "code",
      "execution_count": null,
      "id": "handmade-majority",
      "metadata": {
        "colab": {
          "base_uri": "https://localhost:8080/"
        },
        "id": "handmade-majority",
        "outputId": "3fe3f735-95c3-4c44-fbea-2b570a1f0189"
      },
      "outputs": [
        {
          "output_type": "stream",
          "name": "stdout",
          "text": [
            "<class 'pandas.core.frame.DataFrame'>\n",
            "RangeIndex: 9659 entries, 0 to 9658\n",
            "Data columns (total 14 columns):\n",
            " #   Column          Non-Null Count  Dtype  \n",
            "---  ------          --------------  -----  \n",
            " 0   App             9659 non-null   object \n",
            " 1   Category        9659 non-null   object \n",
            " 2   Rating          8196 non-null   float64\n",
            " 3   Reviews         9659 non-null   float64\n",
            " 4   Size            8432 non-null   float64\n",
            " 5   Installs        9659 non-null   int64  \n",
            " 6   Type            9658 non-null   object \n",
            " 7   Price           9659 non-null   float64\n",
            " 8   Content Rating  9659 non-null   object \n",
            " 9   Last Updated    9659 non-null   object \n",
            " 10  Current Ver     9659 non-null   object \n",
            " 11  Android Ver     9657 non-null   object \n",
            " 12  First_Genre     9659 non-null   object \n",
            " 13  Sec_Genre       9659 non-null   object \n",
            "dtypes: float64(4), int64(1), object(9)\n",
            "memory usage: 1.0+ MB\n"
          ]
        }
      ],
      "source": [
        "df.info()"
      ]
    },
    {
      "cell_type": "markdown",
      "id": "chief-italy",
      "metadata": {
        "id": "chief-italy"
      },
      "source": [
        "O dataset possui **9658** registros/observações/linhas e **13** atributos/variáveis/colunas. <br/>\n",
        "Alguns atributos possuem atributos com **valores ausente/faltantes(null)** (p. ex., _'Rating'_). <br/>"
      ]
    },
    {
      "cell_type": "markdown",
      "id": "purple-effectiveness",
      "metadata": {
        "id": "purple-effectiveness"
      },
      "source": [
        "<h2>2. Análise Exploratória de Dados</h2>\n",
        "\n",
        "Vamos dividir nossa análise em três tópicos: (1)análise univariada, (2) análise bivariada e (3) análise multivariadas.\n",
        "<hr/>"
      ]
    },
    {
      "cell_type": "markdown",
      "id": "6106b400-5ad1-463d-99c2-357330dc1934",
      "metadata": {
        "id": "6106b400-5ad1-463d-99c2-357330dc1934"
      },
      "source": [
        "## 2.1 Análise Univariada\n",
        "\n",
        "O objetivo da análise univariada é entender a distribuição de valores para uma única variável.\n",
        "Podemos realizar análise univariada com 3 opções:\n",
        "- Estatísticas resumidas\n",
        "- Tabela de Distribuições de Frequência\n",
        "- Gráficos (Boxplot, Histograma, Barplot, Pie Chart)\n",
        "\n",
        "<hr/>"
      ]
    },
    {
      "cell_type": "code",
      "execution_count": null,
      "id": "68a1a6a9-718d-4955-8f6a-bd78c10e12f9",
      "metadata": {
        "id": "68a1a6a9-718d-4955-8f6a-bd78c10e12f9"
      },
      "outputs": [],
      "source": [
        "# estilos padrão para os plots/visualizações\n",
        "sns.set_theme(style=\"whitegrid\")\n",
        "plt.rcParams['figure.figsize'] = (10, 6)\n",
        "plt.rcParams['axes.titlesize']= 16\n",
        "plt.rcParams['axes.labelsize'] = 14\n",
        "plt.rcParams['xtick.labelsize'] = 14\n",
        "plt.rcParams['xtick.labelsize'] = 14\n",
        "plt.rcParams['ytick.labelsize'] = 14\n",
        "\n",
        "base_color = '#6495ED'"
      ]
    },
    {
      "cell_type": "markdown",
      "id": "f5d6257f-a300-41fa-ab5a-2ec8703d461e",
      "metadata": {
        "id": "f5d6257f-a300-41fa-ab5a-2ec8703d461e"
      },
      "source": [
        "### 2.1.1 Varáveis númericas"
      ]
    },
    {
      "cell_type": "markdown",
      "id": "b7bf2bb6-3df4-4b35-a4ec-06a3ba1b482a",
      "metadata": {
        "id": "b7bf2bb6-3df4-4b35-a4ec-06a3ba1b482a"
      },
      "source": [
        "### **RATING**"
      ]
    },
    {
      "cell_type": "code",
      "execution_count": null,
      "id": "0b469b79-995f-4d38-b3a5-8c98246ce41b",
      "metadata": {
        "colab": {
          "base_uri": "https://localhost:8080/",
          "height": 300
        },
        "id": "0b469b79-995f-4d38-b3a5-8c98246ce41b",
        "outputId": "ad0f4e01-337e-476a-9c9c-737458a8fbfd"
      },
      "outputs": [
        {
          "output_type": "execute_result",
          "data": {
            "text/plain": [
              "            Rating       Reviews          Size      Installs        Price\n",
              "count  8196.000000  9.659000e+03  8.432000e+03  9.659000e+03  9659.000000\n",
              "mean      4.173243  2.165926e+05  2.039529e+07  7.777507e+06     1.099299\n",
              "std       0.536625  1.831320e+06  2.182754e+07  5.375828e+07    16.852152\n",
              "min       1.000000  0.000000e+00  8.500000e+03  0.000000e+00     0.000000\n",
              "25%       4.000000  2.500000e+01  4.600000e+06  1.000000e+03     0.000000\n",
              "50%       4.300000  9.670000e+02  1.200000e+07  1.000000e+05     0.000000\n",
              "75%       4.500000  2.940100e+04  2.800000e+07  1.000000e+06     0.000000\n",
              "max       5.000000  7.815831e+07  1.000000e+08  1.000000e+09   400.000000"
            ],
            "text/html": [
              "\n",
              "  <div id=\"df-d3a10521-f31f-4346-8ba6-a6d362784af6\">\n",
              "    <div class=\"colab-df-container\">\n",
              "      <div>\n",
              "<style scoped>\n",
              "    .dataframe tbody tr th:only-of-type {\n",
              "        vertical-align: middle;\n",
              "    }\n",
              "\n",
              "    .dataframe tbody tr th {\n",
              "        vertical-align: top;\n",
              "    }\n",
              "\n",
              "    .dataframe thead th {\n",
              "        text-align: right;\n",
              "    }\n",
              "</style>\n",
              "<table border=\"1\" class=\"dataframe\">\n",
              "  <thead>\n",
              "    <tr style=\"text-align: right;\">\n",
              "      <th></th>\n",
              "      <th>Rating</th>\n",
              "      <th>Reviews</th>\n",
              "      <th>Size</th>\n",
              "      <th>Installs</th>\n",
              "      <th>Price</th>\n",
              "    </tr>\n",
              "  </thead>\n",
              "  <tbody>\n",
              "    <tr>\n",
              "      <th>count</th>\n",
              "      <td>8196.000000</td>\n",
              "      <td>9.659000e+03</td>\n",
              "      <td>8.432000e+03</td>\n",
              "      <td>9.659000e+03</td>\n",
              "      <td>9659.000000</td>\n",
              "    </tr>\n",
              "    <tr>\n",
              "      <th>mean</th>\n",
              "      <td>4.173243</td>\n",
              "      <td>2.165926e+05</td>\n",
              "      <td>2.039529e+07</td>\n",
              "      <td>7.777507e+06</td>\n",
              "      <td>1.099299</td>\n",
              "    </tr>\n",
              "    <tr>\n",
              "      <th>std</th>\n",
              "      <td>0.536625</td>\n",
              "      <td>1.831320e+06</td>\n",
              "      <td>2.182754e+07</td>\n",
              "      <td>5.375828e+07</td>\n",
              "      <td>16.852152</td>\n",
              "    </tr>\n",
              "    <tr>\n",
              "      <th>min</th>\n",
              "      <td>1.000000</td>\n",
              "      <td>0.000000e+00</td>\n",
              "      <td>8.500000e+03</td>\n",
              "      <td>0.000000e+00</td>\n",
              "      <td>0.000000</td>\n",
              "    </tr>\n",
              "    <tr>\n",
              "      <th>25%</th>\n",
              "      <td>4.000000</td>\n",
              "      <td>2.500000e+01</td>\n",
              "      <td>4.600000e+06</td>\n",
              "      <td>1.000000e+03</td>\n",
              "      <td>0.000000</td>\n",
              "    </tr>\n",
              "    <tr>\n",
              "      <th>50%</th>\n",
              "      <td>4.300000</td>\n",
              "      <td>9.670000e+02</td>\n",
              "      <td>1.200000e+07</td>\n",
              "      <td>1.000000e+05</td>\n",
              "      <td>0.000000</td>\n",
              "    </tr>\n",
              "    <tr>\n",
              "      <th>75%</th>\n",
              "      <td>4.500000</td>\n",
              "      <td>2.940100e+04</td>\n",
              "      <td>2.800000e+07</td>\n",
              "      <td>1.000000e+06</td>\n",
              "      <td>0.000000</td>\n",
              "    </tr>\n",
              "    <tr>\n",
              "      <th>max</th>\n",
              "      <td>5.000000</td>\n",
              "      <td>7.815831e+07</td>\n",
              "      <td>1.000000e+08</td>\n",
              "      <td>1.000000e+09</td>\n",
              "      <td>400.000000</td>\n",
              "    </tr>\n",
              "  </tbody>\n",
              "</table>\n",
              "</div>\n",
              "      <button class=\"colab-df-convert\" onclick=\"convertToInteractive('df-d3a10521-f31f-4346-8ba6-a6d362784af6')\"\n",
              "              title=\"Convert this dataframe to an interactive table.\"\n",
              "              style=\"display:none;\">\n",
              "        \n",
              "  <svg xmlns=\"http://www.w3.org/2000/svg\" height=\"24px\"viewBox=\"0 0 24 24\"\n",
              "       width=\"24px\">\n",
              "    <path d=\"M0 0h24v24H0V0z\" fill=\"none\"/>\n",
              "    <path d=\"M18.56 5.44l.94 2.06.94-2.06 2.06-.94-2.06-.94-.94-2.06-.94 2.06-2.06.94zm-11 1L8.5 8.5l.94-2.06 2.06-.94-2.06-.94L8.5 2.5l-.94 2.06-2.06.94zm10 10l.94 2.06.94-2.06 2.06-.94-2.06-.94-.94-2.06-.94 2.06-2.06.94z\"/><path d=\"M17.41 7.96l-1.37-1.37c-.4-.4-.92-.59-1.43-.59-.52 0-1.04.2-1.43.59L10.3 9.45l-7.72 7.72c-.78.78-.78 2.05 0 2.83L4 21.41c.39.39.9.59 1.41.59.51 0 1.02-.2 1.41-.59l7.78-7.78 2.81-2.81c.8-.78.8-2.07 0-2.86zM5.41 20L4 18.59l7.72-7.72 1.47 1.35L5.41 20z\"/>\n",
              "  </svg>\n",
              "      </button>\n",
              "      \n",
              "  <style>\n",
              "    .colab-df-container {\n",
              "      display:flex;\n",
              "      flex-wrap:wrap;\n",
              "      gap: 12px;\n",
              "    }\n",
              "\n",
              "    .colab-df-convert {\n",
              "      background-color: #E8F0FE;\n",
              "      border: none;\n",
              "      border-radius: 50%;\n",
              "      cursor: pointer;\n",
              "      display: none;\n",
              "      fill: #1967D2;\n",
              "      height: 32px;\n",
              "      padding: 0 0 0 0;\n",
              "      width: 32px;\n",
              "    }\n",
              "\n",
              "    .colab-df-convert:hover {\n",
              "      background-color: #E2EBFA;\n",
              "      box-shadow: 0px 1px 2px rgba(60, 64, 67, 0.3), 0px 1px 3px 1px rgba(60, 64, 67, 0.15);\n",
              "      fill: #174EA6;\n",
              "    }\n",
              "\n",
              "    [theme=dark] .colab-df-convert {\n",
              "      background-color: #3B4455;\n",
              "      fill: #D2E3FC;\n",
              "    }\n",
              "\n",
              "    [theme=dark] .colab-df-convert:hover {\n",
              "      background-color: #434B5C;\n",
              "      box-shadow: 0px 1px 3px 1px rgba(0, 0, 0, 0.15);\n",
              "      filter: drop-shadow(0px 1px 2px rgba(0, 0, 0, 0.3));\n",
              "      fill: #FFFFFF;\n",
              "    }\n",
              "  </style>\n",
              "\n",
              "      <script>\n",
              "        const buttonEl =\n",
              "          document.querySelector('#df-d3a10521-f31f-4346-8ba6-a6d362784af6 button.colab-df-convert');\n",
              "        buttonEl.style.display =\n",
              "          google.colab.kernel.accessAllowed ? 'block' : 'none';\n",
              "\n",
              "        async function convertToInteractive(key) {\n",
              "          const element = document.querySelector('#df-d3a10521-f31f-4346-8ba6-a6d362784af6');\n",
              "          const dataTable =\n",
              "            await google.colab.kernel.invokeFunction('convertToInteractive',\n",
              "                                                     [key], {});\n",
              "          if (!dataTable) return;\n",
              "\n",
              "          const docLinkHtml = 'Like what you see? Visit the ' +\n",
              "            '<a target=\"_blank\" href=https://colab.research.google.com/notebooks/data_table.ipynb>data table notebook</a>'\n",
              "            + ' to learn more about interactive tables.';\n",
              "          element.innerHTML = '';\n",
              "          dataTable['output_type'] = 'display_data';\n",
              "          await google.colab.output.renderOutput(dataTable, element);\n",
              "          const docLink = document.createElement('div');\n",
              "          docLink.innerHTML = docLinkHtml;\n",
              "          element.appendChild(docLink);\n",
              "        }\n",
              "      </script>\n",
              "    </div>\n",
              "  </div>\n",
              "  "
            ]
          },
          "metadata": {},
          "execution_count": 9
        }
      ],
      "source": [
        "stats = df.describe()\n",
        "stats"
      ]
    },
    {
      "cell_type": "code",
      "execution_count": null,
      "id": "7f397f87-3df8-490c-9ab6-e767a1810e81",
      "metadata": {
        "colab": {
          "base_uri": "https://localhost:8080/"
        },
        "id": "7f397f87-3df8-490c-9ab6-e767a1810e81",
        "outputId": "fbbd60d8-304d-4fc3-bb62-876c80bcea61"
      },
      "outputs": [
        {
          "output_type": "execute_result",
          "data": {
            "text/plain": [
              "count    8196.000000\n",
              "mean        4.173243\n",
              "std         0.536625\n",
              "min         1.000000\n",
              "25%         4.000000\n",
              "50%         4.300000\n",
              "75%         4.500000\n",
              "max         5.000000\n",
              "Name: Rating, dtype: float64"
            ]
          },
          "metadata": {},
          "execution_count": 10
        }
      ],
      "source": [
        "df['Rating'].describe()"
      ]
    },
    {
      "cell_type": "code",
      "execution_count": null,
      "id": "42dfe52d-fe19-425d-8a5d-e97cc41897d1",
      "metadata": {
        "colab": {
          "base_uri": "https://localhost:8080/"
        },
        "id": "42dfe52d-fe19-425d-8a5d-e97cc41897d1",
        "outputId": "23e32c3e-4cab-4943-f70b-8100101dead5"
      },
      "outputs": [
        {
          "output_type": "stream",
          "name": "stdout",
          "text": [
            "A nota média (avaliação) dos aplicativos é de 4.17 +- 0.54\n",
            "A mediana das avaliações é de 4.3\n"
          ]
        }
      ],
      "source": [
        "print(f\"A nota média (avaliação) dos aplicativos é de {stats.loc['mean', 'Rating']:.2f} +- {stats.loc['std', 'Rating']:.2f}\")\n",
        "print(f\"A mediana das avaliações é de {stats.loc['50%', 'Rating']}\")"
      ]
    },
    {
      "cell_type": "markdown",
      "id": "bd2d0999-7374-4f81-ad89-d5d15996e378",
      "metadata": {
        "id": "bd2d0999-7374-4f81-ad89-d5d15996e378"
      },
      "source": [
        "Note que a **média** e a **mediana** não estão muito longe e que o **desvio padrão** não é tão alto, mesmo com uma escala tão baixa com é a das avaliações (de 0 a 5). Tudo isso indica (em números) que a dispersão de notas/avaliações dos aplitativos não é tão grande."
      ]
    },
    {
      "cell_type": "markdown",
      "id": "98da977a-dfdc-4336-a693-7e2ad7b2cf25",
      "metadata": {
        "id": "98da977a-dfdc-4336-a693-7e2ad7b2cf25"
      },
      "source": [
        "**HISTOGRAMA**"
      ]
    },
    {
      "cell_type": "code",
      "execution_count": null,
      "id": "585004af-d66f-4197-91eb-0d10ee3989c1",
      "metadata": {
        "colab": {
          "base_uri": "https://localhost:8080/",
          "height": 417
        },
        "id": "585004af-d66f-4197-91eb-0d10ee3989c1",
        "outputId": "fae83f5b-4c51-49c5-fdfb-fa3d2880824f"
      },
      "outputs": [
        {
          "output_type": "display_data",
          "data": {
            "text/plain": [
              "<Figure size 720x432 with 1 Axes>"
            ],
            "image/png": "[encoded data removed]"
          },
          "metadata": {}
        }
      ],
      "source": [
        "sns.histplot(df['Rating'], kde=True)\n",
        "plt.xlabel('Avaliações (notas)')\n",
        "plt.ylabel('Contagem')\n",
        "plt.title('Histograma das avaliações')\n",
        "plt.show()"
      ]
    },
    {
      "cell_type": "markdown",
      "id": "38c903c9-53a3-4a7f-863b-05d7b08cdb8e",
      "metadata": {
        "id": "38c903c9-53a3-4a7f-863b-05d7b08cdb8e"
      },
      "source": [
        "A **distribuição das avaliações** tem semelhanças com um _distribuição normal_ enviesada à esquerda (skewed left distribution). <br/>\n",
        "\n",
        "Apenas olhando este gráfico podemos notar que a grande maioria das avaliações estão no intervalo entre 4.0 e 5.0."
      ]
    },
    {
      "cell_type": "markdown",
      "id": "21ecda3f-1329-43bd-a5c9-7f983f9ffda5",
      "metadata": {
        "id": "21ecda3f-1329-43bd-a5c9-7f983f9ffda5"
      },
      "source": [
        "**BOXPLOT**"
      ]
    },
    {
      "cell_type": "code",
      "execution_count": null,
      "id": "ffc54948-889d-4d97-9552-4a9009e5802d",
      "metadata": {
        "colab": {
          "base_uri": "https://localhost:8080/",
          "height": 300
        },
        "id": "ffc54948-889d-4d97-9552-4a9009e5802d",
        "outputId": "ee6fe1e4-7a21-4a15-e433-533303226f0f"
      },
      "outputs": [
        {
          "output_type": "execute_result",
          "data": {
            "text/plain": [
              "            Rating\n",
              "count  8196.000000\n",
              "mean      4.173243\n",
              "std       0.536625\n",
              "min       1.000000\n",
              "25%       4.000000\n",
              "50%       4.300000\n",
              "75%       4.500000\n",
              "max       5.000000"
            ],
            "text/html": [
              "\n",
              "  <div id=\"df-f9b4b1d2-f1bb-483a-bf13-a1cf31528dc4\">\n",
              "    <div class=\"colab-df-container\">\n",
              "      <div>\n",
              "<style scoped>\n",
              "    .dataframe tbody tr th:only-of-type {\n",
              "        vertical-align: middle;\n",
              "    }\n",
              "\n",
              "    .dataframe tbody tr th {\n",
              "        vertical-align: top;\n",
              "    }\n",
              "\n",
              "    .dataframe thead th {\n",
              "        text-align: right;\n",
              "    }\n",
              "</style>\n",
              "<table border=\"1\" class=\"dataframe\">\n",
              "  <thead>\n",
              "    <tr style=\"text-align: right;\">\n",
              "      <th></th>\n",
              "      <th>Rating</th>\n",
              "    </tr>\n",
              "  </thead>\n",
              "  <tbody>\n",
              "    <tr>\n",
              "      <th>count</th>\n",
              "      <td>8196.000000</td>\n",
              "    </tr>\n",
              "    <tr>\n",
              "      <th>mean</th>\n",
              "      <td>4.173243</td>\n",
              "    </tr>\n",
              "    <tr>\n",
              "      <th>std</th>\n",
              "      <td>0.536625</td>\n",
              "    </tr>\n",
              "    <tr>\n",
              "      <th>min</th>\n",
              "      <td>1.000000</td>\n",
              "    </tr>\n",
              "    <tr>\n",
              "      <th>25%</th>\n",
              "      <td>4.000000</td>\n",
              "    </tr>\n",
              "    <tr>\n",
              "      <th>50%</th>\n",
              "      <td>4.300000</td>\n",
              "    </tr>\n",
              "    <tr>\n",
              "      <th>75%</th>\n",
              "      <td>4.500000</td>\n",
              "    </tr>\n",
              "    <tr>\n",
              "      <th>max</th>\n",
              "      <td>5.000000</td>\n",
              "    </tr>\n",
              "  </tbody>\n",
              "</table>\n",
              "</div>\n",
              "      <button class=\"colab-df-convert\" onclick=\"convertToInteractive('df-f9b4b1d2-f1bb-483a-bf13-a1cf31528dc4')\"\n",
              "              title=\"Convert this dataframe to an interactive table.\"\n",
              "              style=\"display:none;\">\n",
              "        \n",
              "  <svg xmlns=\"http://www.w3.org/2000/svg\" height=\"24px\"viewBox=\"0 0 24 24\"\n",
              "       width=\"24px\">\n",
              "    <path d=\"M0 0h24v24H0V0z\" fill=\"none\"/>\n",
              "    <path d=\"M18.56 5.44l.94 2.06.94-2.06 2.06-.94-2.06-.94-.94-2.06-.94 2.06-2.06.94zm-11 1L8.5 8.5l.94-2.06 2.06-.94-2.06-.94L8.5 2.5l-.94 2.06-2.06.94zm10 10l.94 2.06.94-2.06 2.06-.94-2.06-.94-.94-2.06-.94 2.06-2.06.94z\"/><path d=\"M17.41 7.96l-1.37-1.37c-.4-.4-.92-.59-1.43-.59-.52 0-1.04.2-1.43.59L10.3 9.45l-7.72 7.72c-.78.78-.78 2.05 0 2.83L4 21.41c.39.39.9.59 1.41.59.51 0 1.02-.2 1.41-.59l7.78-7.78 2.81-2.81c.8-.78.8-2.07 0-2.86zM5.41 20L4 18.59l7.72-7.72 1.47 1.35L5.41 20z\"/>\n",
              "  </svg>\n",
              "      </button>\n",
              "      \n",
              "  <style>\n",
              "    .colab-df-container {\n",
              "      display:flex;\n",
              "      flex-wrap:wrap;\n",
              "      gap: 12px;\n",
              "    }\n",
              "\n",
              "    .colab-df-convert {\n",
              "      background-color: #E8F0FE;\n",
              "      border: none;\n",
              "      border-radius: 50%;\n",
              "      cursor: pointer;\n",
              "      display: none;\n",
              "      fill: #1967D2;\n",
              "      height: 32px;\n",
              "      padding: 0 0 0 0;\n",
              "      width: 32px;\n",
              "    }\n",
              "\n",
              "    .colab-df-convert:hover {\n",
              "      background-color: #E2EBFA;\n",
              "      box-shadow: 0px 1px 2px rgba(60, 64, 67, 0.3), 0px 1px 3px 1px rgba(60, 64, 67, 0.15);\n",
              "      fill: #174EA6;\n",
              "    }\n",
              "\n",
              "    [theme=dark] .colab-df-convert {\n",
              "      background-color: #3B4455;\n",
              "      fill: #D2E3FC;\n",
              "    }\n",
              "\n",
              "    [theme=dark] .colab-df-convert:hover {\n",
              "      background-color: #434B5C;\n",
              "      box-shadow: 0px 1px 3px 1px rgba(0, 0, 0, 0.15);\n",
              "      filter: drop-shadow(0px 1px 2px rgba(0, 0, 0, 0.3));\n",
              "      fill: #FFFFFF;\n",
              "    }\n",
              "  </style>\n",
              "\n",
              "      <script>\n",
              "        const buttonEl =\n",
              "          document.querySelector('#df-f9b4b1d2-f1bb-483a-bf13-a1cf31528dc4 button.colab-df-convert');\n",
              "        buttonEl.style.display =\n",
              "          google.colab.kernel.accessAllowed ? 'block' : 'none';\n",
              "\n",
              "        async function convertToInteractive(key) {\n",
              "          const element = document.querySelector('#df-f9b4b1d2-f1bb-483a-bf13-a1cf31528dc4');\n",
              "          const dataTable =\n",
              "            await google.colab.kernel.invokeFunction('convertToInteractive',\n",
              "                                                     [key], {});\n",
              "          if (!dataTable) return;\n",
              "\n",
              "          const docLinkHtml = 'Like what you see? Visit the ' +\n",
              "            '<a target=\"_blank\" href=https://colab.research.google.com/notebooks/data_table.ipynb>data table notebook</a>'\n",
              "            + ' to learn more about interactive tables.';\n",
              "          element.innerHTML = '';\n",
              "          dataTable['output_type'] = 'display_data';\n",
              "          await google.colab.output.renderOutput(dataTable, element);\n",
              "          const docLink = document.createElement('div');\n",
              "          docLink.innerHTML = docLinkHtml;\n",
              "          element.appendChild(docLink);\n",
              "        }\n",
              "      </script>\n",
              "    </div>\n",
              "  </div>\n",
              "  "
            ]
          },
          "metadata": {},
          "execution_count": 13
        }
      ],
      "source": [
        "stats[['Rating']]"
      ]
    },
    {
      "cell_type": "code",
      "execution_count": null,
      "id": "3b7381f3-3038-45b5-912f-10947956b493",
      "metadata": {
        "colab": {
          "base_uri": "https://localhost:8080/",
          "height": 417
        },
        "id": "3b7381f3-3038-45b5-912f-10947956b493",
        "outputId": "e3a77d16-f920-43eb-b899-f0e420dc4fe0"
      },
      "outputs": [
        {
          "output_type": "display_data",
          "data": {
            "text/plain": [
              "<Figure size 720x432 with 1 Axes>"
            ],
            "image/png": "[encoded data removed]"
          },
          "metadata": {}
        }
      ],
      "source": [
        "sns.boxplot(data=df, x='Rating')\n",
        "plt.title('Boxplot das avaliações')\n",
        "plt.show()"
      ]
    },
    {
      "cell_type": "markdown",
      "id": "505fba9c-07b3-42d0-805c-54ed97be8b9e",
      "metadata": {
        "id": "505fba9c-07b3-42d0-805c-54ed97be8b9e"
      },
      "source": [
        "Pelo boxplot, é possível enxergar que 50% dos dados estão entre as avaliações 4.0 (Q1) e 4.5 (Q3), confirmando os resultados vindos do método `.describe()`.\n",
        "\n",
        "Por outro lado, o boxplot mostra que os aplicativos com avaliações _menores do que ~3.25_ são ***outliers***. <br/>\n",
        "Entretanto, é comum termos aplicativos mal avaliados. Assim sendo, a inclusão destes aplicativos na análise é relevante."
      ]
    },
    {
      "cell_type": "markdown",
      "id": "301f2b7c-b397-46dd-a657-85975798cf83",
      "metadata": {
        "id": "301f2b7c-b397-46dd-a657-85975798cf83"
      },
      "source": [
        "**VIOLINPLOT**"
      ]
    },
    {
      "cell_type": "code",
      "execution_count": null,
      "id": "9de20c18-7773-473a-9021-1dc0b3f8b5af",
      "metadata": {
        "colab": {
          "base_uri": "https://localhost:8080/",
          "height": 435
        },
        "id": "9de20c18-7773-473a-9021-1dc0b3f8b5af",
        "outputId": "815d4d0b-a471-4fdc-9ffd-f4a5c8070905"
      },
      "outputs": [
        {
          "output_type": "execute_result",
          "data": {
            "text/plain": [
              "Text(0.5, 1.0, 'Violin Plot das avaliações')"
            ]
          },
          "metadata": {},
          "execution_count": 15
        },
        {
          "output_type": "display_data",
          "data": {
            "text/plain": [
              "<Figure size 720x432 with 1 Axes>"
            ],
            "image/png": "[encoded data removed]"
          },
          "metadata": {}
        }
      ],
      "source": [
        "sns.violinplot(data=df, x='Rating')\n",
        "plt.title('Violin Plot das avaliações')"
      ]
    },
    {
      "cell_type": "markdown",
      "id": "08801f88-a5a8-4e35-9148-f3855d3b10bf",
      "metadata": {
        "id": "08801f88-a5a8-4e35-9148-f3855d3b10bf"
      },
      "source": [
        "O _violin plot_ nos dá uma noção mais precisa de como os dados estão distribuídos, principalmente, entre os quartis."
      ]
    },
    {
      "cell_type": "markdown",
      "id": "210e1f28-7266-46db-8a39-70d4d3673b3f",
      "metadata": {
        "id": "210e1f28-7266-46db-8a39-70d4d3673b3f"
      },
      "source": [
        "**OUTLIERS**"
      ]
    },
    {
      "cell_type": "markdown",
      "id": "cf43ddda-62f4-4f7e-94d2-1f2ed3281b03",
      "metadata": {
        "id": "cf43ddda-62f4-4f7e-94d2-1f2ed3281b03"
      },
      "source": [
        "<br/>\n",
        "\n",
        "O boxplot do seaborn identifica outliers usando o método de detecção via IQR (`Inter Quantile Range`) e considera como **outlier** qualquer valor fora do intervalo **\\[Q1 - 1.5\\*IQR, Q3 + 1.5\\*IQR\\]**. Podemos controlar o fator **1.5** alterando o parâmetro `whis`. <br/>\n",
        "\n",
        "Se quisermos, por exemplo, que o boxplot não tenha _outliers_, basta passar um valor alto para o `whis`."
      ]
    },
    {
      "cell_type": "code",
      "execution_count": null,
      "id": "3c9cc472-21c3-459e-9538-e54d5f45ca34",
      "metadata": {
        "colab": {
          "base_uri": "https://localhost:8080/"
        },
        "id": "3c9cc472-21c3-459e-9538-e54d5f45ca34",
        "outputId": "7ba0a06f-1d95-4e5a-a7b3-511409b27f26"
      },
      "outputs": [
        {
          "output_type": "stream",
          "name": "stdout",
          "text": [
            "Q1: 4.0 \n",
            "Q3: 4.5 \n",
            "IQR: 0.5 \n"
          ]
        }
      ],
      "source": [
        "Q1 = df['Rating'].quantile(0.25)\n",
        "Q3 = df['Rating'].quantile(0.75)\n",
        "IQR = Q3 - Q1 #Inter Quantile Range\n",
        "print(f'Q1: {Q1} \\n'\n",
        "      f'Q3: {Q3} \\n'\n",
        "      f'IQR: {IQR} ')"
      ]
    },
    {
      "cell_type": "code",
      "execution_count": null,
      "id": "d443635c-de08-4ba9-aa7e-c857e2163805",
      "metadata": {
        "colab": {
          "base_uri": "https://localhost:8080/",
          "height": 676
        },
        "id": "d443635c-de08-4ba9-aa7e-c857e2163805",
        "outputId": "c3052be9-7345-471a-e6ff-915fe14cdd22"
      },
      "outputs": [
        {
          "output_type": "execute_result",
          "data": {
            "text/plain": [
              "                                                    App            Category  \\\n",
              "15                      Learn To Draw Kawaii Characters      ART_AND_DESIGN   \n",
              "87                        RST - Sale of cars on the PCT   AUTO_AND_VEHICLES   \n",
              "209                                     Plugin:AOT v5.0            BUSINESS   \n",
              "275   comico Popular Original Cartoon Updated Everyd...              COMICS   \n",
              "276                       Daily Manga - Comic & Webtoon              COMICS   \n",
              "...                                                 ...                 ...   \n",
              "9455                                       Florida Blue  HEALTH_AND_FITNESS   \n",
              "9488                        SB · FN 1870 Mobile Banking             FINANCE   \n",
              "9500                                    Pint - FN Theme     PERSONALIZATION   \n",
              "9576                       Fisher-Price® Smart Connect™               TOOLS   \n",
              "9585                             FreedomPop Diagnostics               TOOLS   \n",
              "\n",
              "      Rating  Reviews        Size  Installs  Type  Price Content Rating  \\\n",
              "15       3.2     55.0   2700000.0      5000  Free    0.0       Everyone   \n",
              "87       3.2    250.0   1100000.0    100000  Free    0.0       Everyone   \n",
              "209      3.1   4034.0     23000.0    100000  Free    0.0       Everyone   \n",
              "275      3.2  93965.0  15000000.0   5000000  Free    0.0           Teen   \n",
              "276      3.2   1446.0   7100000.0    100000  Free    0.0     Mature 17+   \n",
              "...      ...      ...         ...       ...   ...    ...            ...   \n",
              "9455     3.2    499.0  34000000.0    100000  Free    0.0       Everyone   \n",
              "9488     2.9    139.0   3300000.0     10000  Free    0.0       Everyone   \n",
              "9500     2.5      6.0    234000.0       100  Free    0.0       Everyone   \n",
              "9576     2.7    422.0  72000000.0     50000  Free    0.0       Everyone   \n",
              "9585     2.9    452.0   7000000.0    100000  Free    0.0       Everyone   \n",
              "\n",
              "     Last Updated           Current Ver   Android Ver       First_Genre  \\\n",
              "15     2018-06-06    Varies with device    4.2 and up      Art & Design   \n",
              "87     2018-04-27                   1.4  4.0.3 and up   Auto & Vehicles   \n",
              "209    2015-09-11  3.0.1.11 (Build 311)    2.2 and up          Business   \n",
              "275    2018-07-03                 6.3.0  4.0.3 and up            Comics   \n",
              "276    2018-05-18                   1.0  4.0.3 and up            Comics   \n",
              "...           ...                   ...           ...               ...   \n",
              "9455   2018-07-10                 4.2.1    7.0 and up  Health & Fitness   \n",
              "9488   2017-06-19                 3.0.5    4.0 and up           Finance   \n",
              "9500   2013-08-10                   1.0    2.2 and up   Personalization   \n",
              "9576   2018-02-23                 2.4.1    4.4 and up             Tools   \n",
              "9585   2017-07-17         1.03.123.0713  4.0.3 and up             Tools   \n",
              "\n",
              "             Sec_Genre  \n",
              "15        Art & Design  \n",
              "87     Auto & Vehicles  \n",
              "209           Business  \n",
              "275             Comics  \n",
              "276             Comics  \n",
              "...                ...  \n",
              "9455  Health & Fitness  \n",
              "9488           Finance  \n",
              "9500   Personalization  \n",
              "9576             Tools  \n",
              "9585             Tools  \n",
              "\n",
              "[492 rows x 14 columns]"
            ],
            "text/html": [
              "\n",
              "  <div id=\"df-e7656304-723f-44c3-857e-16593a9e1156\">\n",
              "    <div class=\"colab-df-container\">\n",
              "      <div>\n",
              "<style scoped>\n",
              "    .dataframe tbody tr th:only-of-type {\n",
              "        vertical-align: middle;\n",
              "    }\n",
              "\n",
              "    .dataframe tbody tr th {\n",
              "        vertical-align: top;\n",
              "    }\n",
              "\n",
              "    .dataframe thead th {\n",
              "        text-align: right;\n",
              "    }\n",
              "</style>\n",
              "<table border=\"1\" class=\"dataframe\">\n",
              "  <thead>\n",
              "    <tr style=\"text-align: right;\">\n",
              "      <th></th>\n",
              "      <th>App</th>\n",
              "      <th>Category</th>\n",
              "      <th>Rating</th>\n",
              "      <th>Reviews</th>\n",
              "      <th>Size</th>\n",
              "      <th>Installs</th>\n",
              "      <th>Type</th>\n",
              "      <th>Price</th>\n",
              "      <th>Content Rating</th>\n",
              "      <th>Last Updated</th>\n",
              "      <th>Current Ver</th>\n",
              "      <th>Android Ver</th>\n",
              "      <th>First_Genre</th>\n",
              "      <th>Sec_Genre</th>\n",
              "    </tr>\n",
              "  </thead>\n",
              "  <tbody>\n",
              "    <tr>\n",
              "      <th>15</th>\n",
              "      <td>Learn To Draw Kawaii Characters</td>\n",
              "      <td>ART_AND_DESIGN</td>\n",
              "      <td>3.2</td>\n",
              "      <td>55.0</td>\n",
              "      <td>2700000.0</td>\n",
              "      <td>5000</td>\n",
              "      <td>Free</td>\n",
              "      <td>0.0</td>\n",
              "      <td>Everyone</td>\n",
              "      <td>2018-06-06</td>\n",
              "      <td>Varies with device</td>\n",
              "      <td>4.2 and up</td>\n",
              "      <td>Art &amp; Design</td>\n",
              "      <td>Art &amp; Design</td>\n",
              "    </tr>\n",
              "    <tr>\n",
              "      <th>87</th>\n",
              "      <td>RST - Sale of cars on the PCT</td>\n",
              "      <td>AUTO_AND_VEHICLES</td>\n",
              "      <td>3.2</td>\n",
              "      <td>250.0</td>\n",
              "      <td>1100000.0</td>\n",
              "      <td>100000</td>\n",
              "      <td>Free</td>\n",
              "      <td>0.0</td>\n",
              "      <td>Everyone</td>\n",
              "      <td>2018-04-27</td>\n",
              "      <td>1.4</td>\n",
              "      <td>4.0.3 and up</td>\n",
              "      <td>Auto &amp; Vehicles</td>\n",
              "      <td>Auto &amp; Vehicles</td>\n",
              "    </tr>\n",
              "    <tr>\n",
              "      <th>209</th>\n",
              "      <td>Plugin:AOT v5.0</td>\n",
              "      <td>BUSINESS</td>\n",
              "      <td>3.1</td>\n",
              "      <td>4034.0</td>\n",
              "      <td>23000.0</td>\n",
              "      <td>100000</td>\n",
              "      <td>Free</td>\n",
              "      <td>0.0</td>\n",
              "      <td>Everyone</td>\n",
              "      <td>2015-09-11</td>\n",
              "      <td>3.0.1.11 (Build 311)</td>\n",
              "      <td>2.2 and up</td>\n",
              "      <td>Business</td>\n",
              "      <td>Business</td>\n",
              "    </tr>\n",
              "    <tr>\n",
              "      <th>275</th>\n",
              "      <td>comico Popular Original Cartoon Updated Everyd...</td>\n",
              "      <td>COMICS</td>\n",
              "      <td>3.2</td>\n",
              "      <td>93965.0</td>\n",
              "      <td>15000000.0</td>\n",
              "      <td>5000000</td>\n",
              "      <td>Free</td>\n",
              "      <td>0.0</td>\n",
              "      <td>Teen</td>\n",
              "      <td>2018-07-03</td>\n",
              "      <td>6.3.0</td>\n",
              "      <td>4.0.3 and up</td>\n",
              "      <td>Comics</td>\n",
              "      <td>Comics</td>\n",
              "    </tr>\n",
              "    <tr>\n",
              "      <th>276</th>\n",
              "      <td>Daily Manga - Comic &amp; Webtoon</td>\n",
              "      <td>COMICS</td>\n",
              "      <td>3.2</td>\n",
              "      <td>1446.0</td>\n",
              "      <td>7100000.0</td>\n",
              "      <td>100000</td>\n",
              "      <td>Free</td>\n",
              "      <td>0.0</td>\n",
              "      <td>Mature 17+</td>\n",
              "      <td>2018-05-18</td>\n",
              "      <td>1.0</td>\n",
              "      <td>4.0.3 and up</td>\n",
              "      <td>Comics</td>\n",
              "      <td>Comics</td>\n",
              "    </tr>\n",
              "    <tr>\n",
              "      <th>...</th>\n",
              "      <td>...</td>\n",
              "      <td>...</td>\n",
              "      <td>...</td>\n",
              "      <td>...</td>\n",
              "      <td>...</td>\n",
              "      <td>...</td>\n",
              "      <td>...</td>\n",
              "      <td>...</td>\n",
              "      <td>...</td>\n",
              "      <td>...</td>\n",
              "      <td>...</td>\n",
              "      <td>...</td>\n",
              "      <td>...</td>\n",
              "      <td>...</td>\n",
              "    </tr>\n",
              "    <tr>\n",
              "      <th>9455</th>\n",
              "      <td>Florida Blue</td>\n",
              "      <td>HEALTH_AND_FITNESS</td>\n",
              "      <td>3.2</td>\n",
              "      <td>499.0</td>\n",
              "      <td>34000000.0</td>\n",
              "      <td>100000</td>\n",
              "      <td>Free</td>\n",
              "      <td>0.0</td>\n",
              "      <td>Everyone</td>\n",
              "      <td>2018-07-10</td>\n",
              "      <td>4.2.1</td>\n",
              "      <td>7.0 and up</td>\n",
              "      <td>Health &amp; Fitness</td>\n",
              "      <td>Health &amp; Fitness</td>\n",
              "    </tr>\n",
              "    <tr>\n",
              "      <th>9488</th>\n",
              "      <td>SB · FN 1870 Mobile Banking</td>\n",
              "      <td>FINANCE</td>\n",
              "      <td>2.9</td>\n",
              "      <td>139.0</td>\n",
              "      <td>3300000.0</td>\n",
              "      <td>10000</td>\n",
              "      <td>Free</td>\n",
              "      <td>0.0</td>\n",
              "      <td>Everyone</td>\n",
              "      <td>2017-06-19</td>\n",
              "      <td>3.0.5</td>\n",
              "      <td>4.0 and up</td>\n",
              "      <td>Finance</td>\n",
              "      <td>Finance</td>\n",
              "    </tr>\n",
              "    <tr>\n",
              "      <th>9500</th>\n",
              "      <td>Pint - FN Theme</td>\n",
              "      <td>PERSONALIZATION</td>\n",
              "      <td>2.5</td>\n",
              "      <td>6.0</td>\n",
              "      <td>234000.0</td>\n",
              "      <td>100</td>\n",
              "      <td>Free</td>\n",
              "      <td>0.0</td>\n",
              "      <td>Everyone</td>\n",
              "      <td>2013-08-10</td>\n",
              "      <td>1.0</td>\n",
              "      <td>2.2 and up</td>\n",
              "      <td>Personalization</td>\n",
              "      <td>Personalization</td>\n",
              "    </tr>\n",
              "    <tr>\n",
              "      <th>9576</th>\n",
              "      <td>Fisher-Price® Smart Connect™</td>\n",
              "      <td>TOOLS</td>\n",
              "      <td>2.7</td>\n",
              "      <td>422.0</td>\n",
              "      <td>72000000.0</td>\n",
              "      <td>50000</td>\n",
              "      <td>Free</td>\n",
              "      <td>0.0</td>\n",
              "      <td>Everyone</td>\n",
              "      <td>2018-02-23</td>\n",
              "      <td>2.4.1</td>\n",
              "      <td>4.4 and up</td>\n",
              "      <td>Tools</td>\n",
              "      <td>Tools</td>\n",
              "    </tr>\n",
              "    <tr>\n",
              "      <th>9585</th>\n",
              "      <td>FreedomPop Diagnostics</td>\n",
              "      <td>TOOLS</td>\n",
              "      <td>2.9</td>\n",
              "      <td>452.0</td>\n",
              "      <td>7000000.0</td>\n",
              "      <td>100000</td>\n",
              "      <td>Free</td>\n",
              "      <td>0.0</td>\n",
              "      <td>Everyone</td>\n",
              "      <td>2017-07-17</td>\n",
              "      <td>1.03.123.0713</td>\n",
              "      <td>4.0.3 and up</td>\n",
              "      <td>Tools</td>\n",
              "      <td>Tools</td>\n",
              "    </tr>\n",
              "  </tbody>\n",
              "</table>\n",
              "<p>492 rows × 14 columns</p>\n",
              "</div>\n",
              "      <button class=\"colab-df-convert\" onclick=\"convertToInteractive('df-e7656304-723f-44c3-857e-16593a9e1156')\"\n",
              "              title=\"Convert this dataframe to an interactive table.\"\n",
              "              style=\"display:none;\">\n",
              "        \n",
              "  <svg xmlns=\"http://www.w3.org/2000/svg\" height=\"24px\"viewBox=\"0 0 24 24\"\n",
              "       width=\"24px\">\n",
              "    <path d=\"M0 0h24v24H0V0z\" fill=\"none\"/>\n",
              "    <path d=\"M18.56 5.44l.94 2.06.94-2.06 2.06-.94-2.06-.94-.94-2.06-.94 2.06-2.06.94zm-11 1L8.5 8.5l.94-2.06 2.06-.94-2.06-.94L8.5 2.5l-.94 2.06-2.06.94zm10 10l.94 2.06.94-2.06 2.06-.94-2.06-.94-.94-2.06-.94 2.06-2.06.94z\"/><path d=\"M17.41 7.96l-1.37-1.37c-.4-.4-.92-.59-1.43-.59-.52 0-1.04.2-1.43.59L10.3 9.45l-7.72 7.72c-.78.78-.78 2.05 0 2.83L4 21.41c.39.39.9.59 1.41.59.51 0 1.02-.2 1.41-.59l7.78-7.78 2.81-2.81c.8-.78.8-2.07 0-2.86zM5.41 20L4 18.59l7.72-7.72 1.47 1.35L5.41 20z\"/>\n",
              "  </svg>\n",
              "      </button>\n",
              "      \n",
              "  <style>\n",
              "    .colab-df-container {\n",
              "      display:flex;\n",
              "      flex-wrap:wrap;\n",
              "      gap: 12px;\n",
              "    }\n",
              "\n",
              "    .colab-df-convert {\n",
              "      background-color: #E8F0FE;\n",
              "      border: none;\n",
              "      border-radius: 50%;\n",
              "      cursor: pointer;\n",
              "      display: none;\n",
              "      fill: #1967D2;\n",
              "      height: 32px;\n",
              "      padding: 0 0 0 0;\n",
              "      width: 32px;\n",
              "    }\n",
              "\n",
              "    .colab-df-convert:hover {\n",
              "      background-color: #E2EBFA;\n",
              "      box-shadow: 0px 1px 2px rgba(60, 64, 67, 0.3), 0px 1px 3px 1px rgba(60, 64, 67, 0.15);\n",
              "      fill: #174EA6;\n",
              "    }\n",
              "\n",
              "    [theme=dark] .colab-df-convert {\n",
              "      background-color: #3B4455;\n",
              "      fill: #D2E3FC;\n",
              "    }\n",
              "\n",
              "    [theme=dark] .colab-df-convert:hover {\n",
              "      background-color: #434B5C;\n",
              "      box-shadow: 0px 1px 3px 1px rgba(0, 0, 0, 0.15);\n",
              "      filter: drop-shadow(0px 1px 2px rgba(0, 0, 0, 0.3));\n",
              "      fill: #FFFFFF;\n",
              "    }\n",
              "  </style>\n",
              "\n",
              "      <script>\n",
              "        const buttonEl =\n",
              "          document.querySelector('#df-e7656304-723f-44c3-857e-16593a9e1156 button.colab-df-convert');\n",
              "        buttonEl.style.display =\n",
              "          google.colab.kernel.accessAllowed ? 'block' : 'none';\n",
              "\n",
              "        async function convertToInteractive(key) {\n",
              "          const element = document.querySelector('#df-e7656304-723f-44c3-857e-16593a9e1156');\n",
              "          const dataTable =\n",
              "            await google.colab.kernel.invokeFunction('convertToInteractive',\n",
              "                                                     [key], {});\n",
              "          if (!dataTable) return;\n",
              "\n",
              "          const docLinkHtml = 'Like what you see? Visit the ' +\n",
              "            '<a target=\"_blank\" href=https://colab.research.google.com/notebooks/data_table.ipynb>data table notebook</a>'\n",
              "            + ' to learn more about interactive tables.';\n",
              "          element.innerHTML = '';\n",
              "          dataTable['output_type'] = 'display_data';\n",
              "          await google.colab.output.renderOutput(dataTable, element);\n",
              "          const docLink = document.createElement('div');\n",
              "          docLink.innerHTML = docLinkHtml;\n",
              "          element.appendChild(docLink);\n",
              "        }\n",
              "      </script>\n",
              "    </div>\n",
              "  </div>\n",
              "  "
            ]
          },
          "metadata": {},
          "execution_count": 17
        }
      ],
      "source": [
        "cond = (df['Rating'] < Q1-1.5 * IQR) | (df['Rating'] > Q3+1.5* IQR)\n",
        "qtd_apps_outliers = df.loc[cond]\n",
        "qtd_apps_outliers"
      ]
    },
    {
      "cell_type": "code",
      "execution_count": null,
      "id": "871ac52b-1b87-47f8-a160-4ececf716b79",
      "metadata": {
        "colab": {
          "base_uri": "https://localhost:8080/"
        },
        "id": "871ac52b-1b87-47f8-a160-4ececf716b79",
        "outputId": "289bfdf9-e4e5-44e7-d872-1cea537f9e58"
      },
      "outputs": [
        {
          "output_type": "stream",
          "name": "stdout",
          "text": [
            "A quantidade de apps considerados \"outliers\" por suas avaliações é de 492 (6.00%) de um total de 8196 apps.\n"
          ]
        }
      ],
      "source": [
        "num_rows_no_outliers = df.loc[~df[\"Rating\"].isna()].shape[0]\n",
        "print(f'A quantidade de apps considerados \"outliers\" por suas avaliações é de {qtd_apps_outliers.shape[0]} '\n",
        "      f'({qtd_apps_outliers.shape[0] * 100 / num_rows_no_outliers:.2f}%) de um total de {num_rows_no_outliers} apps.')"
      ]
    },
    {
      "cell_type": "code",
      "execution_count": null,
      "id": "cac073b8-037f-4fa6-b427-6df7e9ceac4b",
      "metadata": {
        "colab": {
          "base_uri": "https://localhost:8080/",
          "height": 417
        },
        "id": "cac073b8-037f-4fa6-b427-6df7e9ceac4b",
        "outputId": "d35317b3-b688-47b4-981d-0a4086303f62"
      },
      "outputs": [
        {
          "output_type": "display_data",
          "data": {
            "text/plain": [
              "<Figure size 720x432 with 1 Axes>"
            ],
            "image/png": "[encoded data removed]"
          },
          "metadata": {}
        }
      ],
      "source": [
        "sns.boxplot(data=df, x='Rating', whis=6)\n",
        "plt.title('Boxplot das avaliações')\n",
        "plt.show()"
      ]
    },
    {
      "cell_type": "markdown",
      "id": "fa64097c-ccd9-465b-b59c-9be79ec0b8c0",
      "metadata": {
        "id": "fa64097c-ccd9-465b-b59c-9be79ec0b8c0"
      },
      "source": [
        "### **REVIEWS**"
      ]
    },
    {
      "cell_type": "code",
      "execution_count": null,
      "id": "1eece498-f0a0-4e2c-b7e1-59b64ad62e28",
      "metadata": {
        "colab": {
          "base_uri": "https://localhost:8080/"
        },
        "id": "1eece498-f0a0-4e2c-b7e1-59b64ad62e28",
        "outputId": "7d7c57b6-cec8-4914-bddb-d9ed2b2123d1"
      },
      "outputs": [
        {
          "output_type": "execute_result",
          "data": {
            "text/plain": [
              "count    9.659000e+03\n",
              "mean     2.165926e+05\n",
              "std      1.831320e+06\n",
              "min      0.000000e+00\n",
              "25%      2.500000e+01\n",
              "50%      9.670000e+02\n",
              "75%      2.940100e+04\n",
              "max      7.815831e+07\n",
              "Name: Reviews, dtype: float64"
            ]
          },
          "metadata": {},
          "execution_count": 20
        }
      ],
      "source": [
        "df['Reviews'].describe()"
      ]
    },
    {
      "cell_type": "code",
      "execution_count": null,
      "id": "ef682fe5-f157-4169-ae79-8ba788ae4e89",
      "metadata": {
        "colab": {
          "base_uri": "https://localhost:8080/"
        },
        "id": "ef682fe5-f157-4169-ae79-8ba788ae4e89",
        "outputId": "1a1037c7-f319-4e97-a3cd-7e623df74f41"
      },
      "outputs": [
        {
          "output_type": "stream",
          "name": "stdout",
          "text": [
            "A média de reviews dos aplicativos é de 216592.56 +- 1831319.57.\n",
            "A mediana das reviews é de 967.0\n"
          ]
        }
      ],
      "source": [
        "print(f\"A média de reviews dos aplicativos é de {stats.loc['mean', 'Reviews']:.2f} +- {stats.loc['std', 'Reviews']:.2f}.\")\n",
        "print(f\"A mediana das reviews é de {stats.loc['50%', 'Reviews']}\")"
      ]
    },
    {
      "cell_type": "code",
      "execution_count": null,
      "id": "41521af1-e256-4f34-b3a0-f14d535713cd",
      "metadata": {
        "colab": {
          "base_uri": "https://localhost:8080/",
          "height": 417
        },
        "id": "41521af1-e256-4f34-b3a0-f14d535713cd",
        "outputId": "e439ec6b-07ca-4deb-d52f-c67febc975de"
      },
      "outputs": [
        {
          "output_type": "display_data",
          "data": {
            "text/plain": [
              "<Figure size 720x432 with 1 Axes>"
            ],
            "image/png": "[encoded data removed]"
          },
          "metadata": {}
        }
      ],
      "source": [
        "sns.histplot(df['Reviews'])\n",
        "plt.xlabel('Reviews')\n",
        "plt.ylabel('Contagem')\n",
        "plt.title('Histograma das Reviews')\n",
        "plt.show()"
      ]
    },
    {
      "cell_type": "markdown",
      "id": "af88a034-8d5b-4805-9e99-7a281a9350cc",
      "metadata": {
        "id": "af88a034-8d5b-4805-9e99-7a281a9350cc"
      },
      "source": [
        "Nada aparece pois existem muitos outliers."
      ]
    },
    {
      "cell_type": "markdown",
      "id": "b6df999d-5488-4522-ba39-3b78e612ef87",
      "metadata": {
        "id": "b6df999d-5488-4522-ba39-3b78e612ef87"
      },
      "source": [
        "**OUTLIERS**"
      ]
    },
    {
      "cell_type": "code",
      "execution_count": null,
      "id": "c7fba2ac-375a-4cef-8184-3a62f6650bd4",
      "metadata": {
        "colab": {
          "base_uri": "https://localhost:8080/"
        },
        "id": "c7fba2ac-375a-4cef-8184-3a62f6650bd4",
        "outputId": "6dc3ae87-8d58-42e6-b3ba-3d42ebfba3d3"
      },
      "outputs": [
        {
          "output_type": "stream",
          "name": "stdout",
          "text": [
            "Q1: 25.0 \n",
            "Q3: 29401.0 \n",
            "IQR: 29376.0 \n"
          ]
        }
      ],
      "source": [
        "Q1 = df['Reviews'].quantile(0.25)\n",
        "Q3 = df['Reviews'].quantile(0.75)\n",
        "IQR = Q3 - Q1 #Inter Quantile Range\n",
        "print(f'Q1: {Q1} \\n'\n",
        "      f'Q3: {Q3} \\n'\n",
        "      f'IQR: {IQR} ')"
      ]
    },
    {
      "cell_type": "code",
      "execution_count": null,
      "id": "7880df33-6abf-4687-8cfd-ee9ff07668e8",
      "metadata": {
        "colab": {
          "base_uri": "https://localhost:8080/",
          "height": 641
        },
        "id": "7880df33-6abf-4687-8cfd-ee9ff07668e8",
        "outputId": "9af72bc6-8c1e-4ce4-eba8-b16e6a5369d4"
      },
      "outputs": [
        {
          "output_type": "execute_result",
          "data": {
            "text/plain": [
              "                                                    App        Category  \\\n",
              "2     U Launcher Lite – FREE Live Cool Themes, Hide ...  ART_AND_DESIGN   \n",
              "3                                 Sketch - Draw & Paint  ART_AND_DESIGN   \n",
              "18                        FlipaClip - Cartoon animation  ART_AND_DESIGN   \n",
              "19                                         ibis Paint X  ART_AND_DESIGN   \n",
              "42                           Textgram - write on photos  ART_AND_DESIGN   \n",
              "...                                                 ...             ...   \n",
              "9599                               Modern Strike Online            GAME   \n",
              "9602                                         Big Hunter            GAME   \n",
              "9627              Castle Clash: RPG War and Strategy FR          FAMILY   \n",
              "9644          Frim: get new friends on local chat rooms          SOCIAL   \n",
              "9658      iHoroscope - 2018 Daily Horoscope & Astrology       LIFESTYLE   \n",
              "\n",
              "      Rating   Reviews        Size  Installs  Type  Price Content Rating  \\\n",
              "2        4.7   87510.0   8700000.0   5000000  Free    0.0       Everyone   \n",
              "3        4.5  215644.0  25000000.0  50000000  Free    0.0           Teen   \n",
              "18       4.3  194216.0  39000000.0   5000000  Free    0.0       Everyone   \n",
              "19       4.6  224399.0  31000000.0  10000000  Free    0.0       Everyone   \n",
              "42       4.4  295221.0         NaN  10000000  Free    0.0       Everyone   \n",
              "...      ...       ...         ...       ...   ...    ...            ...   \n",
              "9599     4.3  834117.0  44000000.0  10000000  Free    0.0           Teen   \n",
              "9602     4.3  245455.0  84000000.0  10000000  Free    0.0   Everyone 10+   \n",
              "9627     4.7  376223.0  24000000.0   1000000  Free    0.0       Everyone   \n",
              "9644     4.0   88486.0         NaN   5000000  Free    0.0     Mature 17+   \n",
              "9658     4.5  398307.0  19000000.0  10000000  Free    0.0       Everyone   \n",
              "\n",
              "     Last Updated         Current Ver         Android Ver   First_Genre  \\\n",
              "2      2018-08-01               1.2.4        4.0.3 and up  Art & Design   \n",
              "3      2018-06-08  Varies with device          4.2 and up  Art & Design   \n",
              "18     2018-08-03               2.2.5        4.0.3 and up  Art & Design   \n",
              "19     2018-07-30               5.5.4          4.1 and up  Art & Design   \n",
              "42     2018-07-30  Varies with device  Varies with device  Art & Design   \n",
              "...           ...                 ...                 ...           ...   \n",
              "9599   2018-07-30              1.25.4          4.1 and up        Action   \n",
              "9602   2018-05-31               2.8.6          4.0 and up        Action   \n",
              "9627   2018-07-18               1.4.2          4.1 and up      Strategy   \n",
              "9644   2018-03-23  Varies with device  Varies with device        Social   \n",
              "9658   2018-07-25  Varies with device  Varies with device     Lifestyle   \n",
              "\n",
              "         Sec_Genre  \n",
              "2     Art & Design  \n",
              "3     Art & Design  \n",
              "18    Art & Design  \n",
              "19    Art & Design  \n",
              "42    Art & Design  \n",
              "...            ...  \n",
              "9599        Action  \n",
              "9602        Action  \n",
              "9627      Strategy  \n",
              "9644        Social  \n",
              "9658     Lifestyle  \n",
              "\n",
              "[1656 rows x 14 columns]"
            ],
            "text/html": [
              "\n",
              "  <div id=\"df-e0ef4ea5-9ea4-495b-82a5-58d002631663\">\n",
              "    <div class=\"colab-df-container\">\n",
              "      <div>\n",
              "<style scoped>\n",
              "    .dataframe tbody tr th:only-of-type {\n",
              "        vertical-align: middle;\n",
              "    }\n",
              "\n",
              "    .dataframe tbody tr th {\n",
              "        vertical-align: top;\n",
              "    }\n",
              "\n",
              "    .dataframe thead th {\n",
              "        text-align: right;\n",
              "    }\n",
              "</style>\n",
              "<table border=\"1\" class=\"dataframe\">\n",
              "  <thead>\n",
              "    <tr style=\"text-align: right;\">\n",
              "      <th></th>\n",
              "      <th>App</th>\n",
              "      <th>Category</th>\n",
              "      <th>Rating</th>\n",
              "      <th>Reviews</th>\n",
              "      <th>Size</th>\n",
              "      <th>Installs</th>\n",
              "      <th>Type</th>\n",
              "      <th>Price</th>\n",
              "      <th>Content Rating</th>\n",
              "      <th>Last Updated</th>\n",
              "      <th>Current Ver</th>\n",
              "      <th>Android Ver</th>\n",
              "      <th>First_Genre</th>\n",
              "      <th>Sec_Genre</th>\n",
              "    </tr>\n",
              "  </thead>\n",
              "  <tbody>\n",
              "    <tr>\n",
              "      <th>2</th>\n",
              "      <td>U Launcher Lite – FREE Live Cool Themes, Hide ...</td>\n",
              "      <td>ART_AND_DESIGN</td>\n",
              "      <td>4.7</td>\n",
              "      <td>87510.0</td>\n",
              "      <td>8700000.0</td>\n",
              "      <td>5000000</td>\n",
              "      <td>Free</td>\n",
              "      <td>0.0</td>\n",
              "      <td>Everyone</td>\n",
              "      <td>2018-08-01</td>\n",
              "      <td>1.2.4</td>\n",
              "      <td>4.0.3 and up</td>\n",
              "      <td>Art &amp; Design</td>\n",
              "      <td>Art &amp; Design</td>\n",
              "    </tr>\n",
              "    <tr>\n",
              "      <th>3</th>\n",
              "      <td>Sketch - Draw &amp; Paint</td>\n",
              "      <td>ART_AND_DESIGN</td>\n",
              "      <td>4.5</td>\n",
              "      <td>215644.0</td>\n",
              "      <td>25000000.0</td>\n",
              "      <td>50000000</td>\n",
              "      <td>Free</td>\n",
              "      <td>0.0</td>\n",
              "      <td>Teen</td>\n",
              "      <td>2018-06-08</td>\n",
              "      <td>Varies with device</td>\n",
              "      <td>4.2 and up</td>\n",
              "      <td>Art &amp; Design</td>\n",
              "      <td>Art &amp; Design</td>\n",
              "    </tr>\n",
              "    <tr>\n",
              "      <th>18</th>\n",
              "      <td>FlipaClip - Cartoon animation</td>\n",
              "      <td>ART_AND_DESIGN</td>\n",
              "      <td>4.3</td>\n",
              "      <td>194216.0</td>\n",
              "      <td>39000000.0</td>\n",
              "      <td>5000000</td>\n",
              "      <td>Free</td>\n",
              "      <td>0.0</td>\n",
              "      <td>Everyone</td>\n",
              "      <td>2018-08-03</td>\n",
              "      <td>2.2.5</td>\n",
              "      <td>4.0.3 and up</td>\n",
              "      <td>Art &amp; Design</td>\n",
              "      <td>Art &amp; Design</td>\n",
              "    </tr>\n",
              "    <tr>\n",
              "      <th>19</th>\n",
              "      <td>ibis Paint X</td>\n",
              "      <td>ART_AND_DESIGN</td>\n",
              "      <td>4.6</td>\n",
              "      <td>224399.0</td>\n",
              "      <td>31000000.0</td>\n",
              "      <td>10000000</td>\n",
              "      <td>Free</td>\n",
              "      <td>0.0</td>\n",
              "      <td>Everyone</td>\n",
              "      <td>2018-07-30</td>\n",
              "      <td>5.5.4</td>\n",
              "      <td>4.1 and up</td>\n",
              "      <td>Art &amp; Design</td>\n",
              "      <td>Art &amp; Design</td>\n",
              "    </tr>\n",
              "    <tr>\n",
              "      <th>42</th>\n",
              "      <td>Textgram - write on photos</td>\n",
              "      <td>ART_AND_DESIGN</td>\n",
              "      <td>4.4</td>\n",
              "      <td>295221.0</td>\n",
              "      <td>NaN</td>\n",
              "      <td>10000000</td>\n",
              "      <td>Free</td>\n",
              "      <td>0.0</td>\n",
              "      <td>Everyone</td>\n",
              "      <td>2018-07-30</td>\n",
              "      <td>Varies with device</td>\n",
              "      <td>Varies with device</td>\n",
              "      <td>Art &amp; Design</td>\n",
              "      <td>Art &amp; Design</td>\n",
              "    </tr>\n",
              "    <tr>\n",
              "      <th>...</th>\n",
              "      <td>...</td>\n",
              "      <td>...</td>\n",
              "      <td>...</td>\n",
              "      <td>...</td>\n",
              "      <td>...</td>\n",
              "      <td>...</td>\n",
              "      <td>...</td>\n",
              "      <td>...</td>\n",
              "      <td>...</td>\n",
              "      <td>...</td>\n",
              "      <td>...</td>\n",
              "      <td>...</td>\n",
              "      <td>...</td>\n",
              "      <td>...</td>\n",
              "    </tr>\n",
              "    <tr>\n",
              "      <th>9599</th>\n",
              "      <td>Modern Strike Online</td>\n",
              "      <td>GAME</td>\n",
              "      <td>4.3</td>\n",
              "      <td>834117.0</td>\n",
              "      <td>44000000.0</td>\n",
              "      <td>10000000</td>\n",
              "      <td>Free</td>\n",
              "      <td>0.0</td>\n",
              "      <td>Teen</td>\n",
              "      <td>2018-07-30</td>\n",
              "      <td>1.25.4</td>\n",
              "      <td>4.1 and up</td>\n",
              "      <td>Action</td>\n",
              "      <td>Action</td>\n",
              "    </tr>\n",
              "    <tr>\n",
              "      <th>9602</th>\n",
              "      <td>Big Hunter</td>\n",
              "      <td>GAME</td>\n",
              "      <td>4.3</td>\n",
              "      <td>245455.0</td>\n",
              "      <td>84000000.0</td>\n",
              "      <td>10000000</td>\n",
              "      <td>Free</td>\n",
              "      <td>0.0</td>\n",
              "      <td>Everyone 10+</td>\n",
              "      <td>2018-05-31</td>\n",
              "      <td>2.8.6</td>\n",
              "      <td>4.0 and up</td>\n",
              "      <td>Action</td>\n",
              "      <td>Action</td>\n",
              "    </tr>\n",
              "    <tr>\n",
              "      <th>9627</th>\n",
              "      <td>Castle Clash: RPG War and Strategy FR</td>\n",
              "      <td>FAMILY</td>\n",
              "      <td>4.7</td>\n",
              "      <td>376223.0</td>\n",
              "      <td>24000000.0</td>\n",
              "      <td>1000000</td>\n",
              "      <td>Free</td>\n",
              "      <td>0.0</td>\n",
              "      <td>Everyone</td>\n",
              "      <td>2018-07-18</td>\n",
              "      <td>1.4.2</td>\n",
              "      <td>4.1 and up</td>\n",
              "      <td>Strategy</td>\n",
              "      <td>Strategy</td>\n",
              "    </tr>\n",
              "    <tr>\n",
              "      <th>9644</th>\n",
              "      <td>Frim: get new friends on local chat rooms</td>\n",
              "      <td>SOCIAL</td>\n",
              "      <td>4.0</td>\n",
              "      <td>88486.0</td>\n",
              "      <td>NaN</td>\n",
              "      <td>5000000</td>\n",
              "      <td>Free</td>\n",
              "      <td>0.0</td>\n",
              "      <td>Mature 17+</td>\n",
              "      <td>2018-03-23</td>\n",
              "      <td>Varies with device</td>\n",
              "      <td>Varies with device</td>\n",
              "      <td>Social</td>\n",
              "      <td>Social</td>\n",
              "    </tr>\n",
              "    <tr>\n",
              "      <th>9658</th>\n",
              "      <td>iHoroscope - 2018 Daily Horoscope &amp; Astrology</td>\n",
              "      <td>LIFESTYLE</td>\n",
              "      <td>4.5</td>\n",
              "      <td>398307.0</td>\n",
              "      <td>19000000.0</td>\n",
              "      <td>10000000</td>\n",
              "      <td>Free</td>\n",
              "      <td>0.0</td>\n",
              "      <td>Everyone</td>\n",
              "      <td>2018-07-25</td>\n",
              "      <td>Varies with device</td>\n",
              "      <td>Varies with device</td>\n",
              "      <td>Lifestyle</td>\n",
              "      <td>Lifestyle</td>\n",
              "    </tr>\n",
              "  </tbody>\n",
              "</table>\n",
              "<p>1656 rows × 14 columns</p>\n",
              "</div>\n",
              "      <button class=\"colab-df-convert\" onclick=\"convertToInteractive('df-e0ef4ea5-9ea4-495b-82a5-58d002631663')\"\n",
              "              title=\"Convert this dataframe to an interactive table.\"\n",
              "              style=\"display:none;\">\n",
              "        \n",
              "  <svg xmlns=\"http://www.w3.org/2000/svg\" height=\"24px\"viewBox=\"0 0 24 24\"\n",
              "       width=\"24px\">\n",
              "    <path d=\"M0 0h24v24H0V0z\" fill=\"none\"/>\n",
              "    <path d=\"M18.56 5.44l.94 2.06.94-2.06 2.06-.94-2.06-.94-.94-2.06-.94 2.06-2.06.94zm-11 1L8.5 8.5l.94-2.06 2.06-.94-2.06-.94L8.5 2.5l-.94 2.06-2.06.94zm10 10l.94 2.06.94-2.06 2.06-.94-2.06-.94-.94-2.06-.94 2.06-2.06.94z\"/><path d=\"M17.41 7.96l-1.37-1.37c-.4-.4-.92-.59-1.43-.59-.52 0-1.04.2-1.43.59L10.3 9.45l-7.72 7.72c-.78.78-.78 2.05 0 2.83L4 21.41c.39.39.9.59 1.41.59.51 0 1.02-.2 1.41-.59l7.78-7.78 2.81-2.81c.8-.78.8-2.07 0-2.86zM5.41 20L4 18.59l7.72-7.72 1.47 1.35L5.41 20z\"/>\n",
              "  </svg>\n",
              "      </button>\n",
              "      \n",
              "  <style>\n",
              "    .colab-df-container {\n",
              "      display:flex;\n",
              "      flex-wrap:wrap;\n",
              "      gap: 12px;\n",
              "    }\n",
              "\n",
              "    .colab-df-convert {\n",
              "      background-color: #E8F0FE;\n",
              "      border: none;\n",
              "      border-radius: 50%;\n",
              "      cursor: pointer;\n",
              "      display: none;\n",
              "      fill: #1967D2;\n",
              "      height: 32px;\n",
              "      padding: 0 0 0 0;\n",
              "      width: 32px;\n",
              "    }\n",
              "\n",
              "    .colab-df-convert:hover {\n",
              "      background-color: #E2EBFA;\n",
              "      box-shadow: 0px 1px 2px rgba(60, 64, 67, 0.3), 0px 1px 3px 1px rgba(60, 64, 67, 0.15);\n",
              "      fill: #174EA6;\n",
              "    }\n",
              "\n",
              "    [theme=dark] .colab-df-convert {\n",
              "      background-color: #3B4455;\n",
              "      fill: #D2E3FC;\n",
              "    }\n",
              "\n",
              "    [theme=dark] .colab-df-convert:hover {\n",
              "      background-color: #434B5C;\n",
              "      box-shadow: 0px 1px 3px 1px rgba(0, 0, 0, 0.15);\n",
              "      filter: drop-shadow(0px 1px 2px rgba(0, 0, 0, 0.3));\n",
              "      fill: #FFFFFF;\n",
              "    }\n",
              "  </style>\n",
              "\n",
              "      <script>\n",
              "        const buttonEl =\n",
              "          document.querySelector('#df-e0ef4ea5-9ea4-495b-82a5-58d002631663 button.colab-df-convert');\n",
              "        buttonEl.style.display =\n",
              "          google.colab.kernel.accessAllowed ? 'block' : 'none';\n",
              "\n",
              "        async function convertToInteractive(key) {\n",
              "          const element = document.querySelector('#df-e0ef4ea5-9ea4-495b-82a5-58d002631663');\n",
              "          const dataTable =\n",
              "            await google.colab.kernel.invokeFunction('convertToInteractive',\n",
              "                                                     [key], {});\n",
              "          if (!dataTable) return;\n",
              "\n",
              "          const docLinkHtml = 'Like what you see? Visit the ' +\n",
              "            '<a target=\"_blank\" href=https://colab.research.google.com/notebooks/data_table.ipynb>data table notebook</a>'\n",
              "            + ' to learn more about interactive tables.';\n",
              "          element.innerHTML = '';\n",
              "          dataTable['output_type'] = 'display_data';\n",
              "          await google.colab.output.renderOutput(dataTable, element);\n",
              "          const docLink = document.createElement('div');\n",
              "          docLink.innerHTML = docLinkHtml;\n",
              "          element.appendChild(docLink);\n",
              "        }\n",
              "      </script>\n",
              "    </div>\n",
              "  </div>\n",
              "  "
            ]
          },
          "metadata": {},
          "execution_count": 24
        }
      ],
      "source": [
        "cond = (df['Reviews'] < Q1-1.5 * IQR) | (df['Reviews'] > Q3+1.5* IQR)\n",
        "qtd_apps_outliers = df.loc[cond]\n",
        "qtd_apps_outliers"
      ]
    },
    {
      "cell_type": "code",
      "execution_count": null,
      "id": "1455f64a-dfa6-4c8a-98bc-c88c39c72584",
      "metadata": {
        "colab": {
          "base_uri": "https://localhost:8080/"
        },
        "id": "1455f64a-dfa6-4c8a-98bc-c88c39c72584",
        "outputId": "c3d6d3b8-3597-419e-e167-64a0f658e6bb"
      },
      "outputs": [
        {
          "output_type": "stream",
          "name": "stdout",
          "text": [
            "A quantidade de apps considerados \"outliers\" por suas reviews é de 1656 (17.14%) de um total de 9659 apps.\n"
          ]
        }
      ],
      "source": [
        "num_rows_no_outliers = df.loc[~df[\"Reviews\"].isna()].shape[0]\n",
        "print(f'A quantidade de apps considerados \"outliers\" por suas reviews é de {qtd_apps_outliers.shape[0]} '\n",
        "      f'({qtd_apps_outliers.shape[0] * 100 / num_rows_no_outliers:.2f}%) de um total de {num_rows_no_outliers} apps.')"
      ]
    },
    {
      "cell_type": "markdown",
      "id": "11c8921f-787b-403c-946d-d0c10e3e5a08",
      "metadata": {
        "id": "11c8921f-787b-403c-946d-d0c10e3e5a08"
      },
      "source": [
        "**BOXPLOT**"
      ]
    },
    {
      "cell_type": "code",
      "execution_count": null,
      "id": "d70be2e2-31f7-4315-91b3-ebd508f1ba8f",
      "metadata": {
        "colab": {
          "base_uri": "https://localhost:8080/",
          "height": 308
        },
        "id": "d70be2e2-31f7-4315-91b3-ebd508f1ba8f",
        "outputId": "1fc4d886-793a-4567-cbf6-8bdd6ab2749d"
      },
      "outputs": [
        {
          "output_type": "display_data",
          "data": {
            "text/plain": [
              "<Figure size 1296x288 with 2 Axes>"
            ],
            "image/png": "[encoded data removed]"
          },
          "metadata": {}
        }
      ],
      "source": [
        "fig, (ax1, ax2) = plt.subplots(1, 2,  figsize = (18, 4))\n",
        "sns.boxplot(data=df, x='Reviews', color=base_color, ax=ax1)\n",
        "sns.boxplot(data=df, x='Reviews', color=base_color, ax=ax2, showfliers=False)\n",
        "ax1.set_title('Boxplot das Reviews')\n",
        "ax2.set_title('Boxplot das Reviews')\n",
        "plt.show()"
      ]
    },
    {
      "cell_type": "markdown",
      "id": "c7cb06a5-e1a9-470f-9040-76cacb26b409",
      "metadata": {
        "id": "c7cb06a5-e1a9-470f-9040-76cacb26b409"
      },
      "source": [
        "Pelo boxplot, é possível perceber que, sem os `outliers`, 50% dos apps possuem entre 0 (Q1) e 30e+3 (Q3) reviews. <br/>\n",
        "Quanto estivermos preparando o conjunto de dados para treinar um modelo de ML, podemos considerar a remoção desses outliers, embora faça parte da realidade dos apps."
      ]
    },
    {
      "cell_type": "markdown",
      "id": "084c1932-2cc0-4b58-be0e-54cabb3ffafa",
      "metadata": {
        "id": "084c1932-2cc0-4b58-be0e-54cabb3ffafa"
      },
      "source": [
        "**HISTOGRAMA**"
      ]
    },
    {
      "cell_type": "code",
      "execution_count": null,
      "id": "9ddab06d-63c9-429a-9bf2-323fc387be76",
      "metadata": {
        "colab": {
          "base_uri": "https://localhost:8080/",
          "height": 417
        },
        "id": "9ddab06d-63c9-429a-9bf2-323fc387be76",
        "outputId": "fcd5e2ad-9305-4c71-bfa3-5d84423dbb5f"
      },
      "outputs": [
        {
          "output_type": "display_data",
          "data": {
            "text/plain": [
              "<Figure size 720x432 with 1 Axes>"
            ],
            "image/png": "[encoded data removed]"
          },
          "metadata": {}
        }
      ],
      "source": [
        "cond = (df['Reviews'] < Q1-1.5* IQR) | (df['Reviews'] > Q3+1.5* IQR)\n",
        "cond = df['Reviews'] <= 1e+3\n",
        "sns.histplot(df.loc[cond,'Reviews'], kde=True)\n",
        "plt.xlabel('Reviews')\n",
        "plt.ylabel('Contagem')\n",
        "plt.title('Histograma das Reviews')\n",
        "plt.show()"
      ]
    },
    {
      "cell_type": "markdown",
      "id": "a5c0d246-792c-480f-80df-1786db301e20",
      "metadata": {
        "id": "a5c0d246-792c-480f-80df-1786db301e20"
      },
      "source": [
        "### PRICE"
      ]
    },
    {
      "cell_type": "code",
      "execution_count": null,
      "id": "a6ed42ba-3ee0-435c-91da-25baffc84938",
      "metadata": {
        "colab": {
          "base_uri": "https://localhost:8080/"
        },
        "id": "a6ed42ba-3ee0-435c-91da-25baffc84938",
        "outputId": "699a593e-ccad-4b31-dcd9-20924a0d1206"
      },
      "outputs": [
        {
          "output_type": "execute_result",
          "data": {
            "text/plain": [
              "count    9659.000000\n",
              "mean        1.099299\n",
              "std        16.852152\n",
              "min         0.000000\n",
              "25%         0.000000\n",
              "50%         0.000000\n",
              "75%         0.000000\n",
              "max       400.000000\n",
              "Name: Price, dtype: float64"
            ]
          },
          "metadata": {},
          "execution_count": 28
        }
      ],
      "source": [
        "df['Price'].describe()"
      ]
    },
    {
      "cell_type": "code",
      "execution_count": null,
      "id": "b06f00d3-4c7e-401b-bb71-dcd47e2e7862",
      "metadata": {
        "colab": {
          "base_uri": "https://localhost:8080/"
        },
        "id": "b06f00d3-4c7e-401b-bb71-dcd47e2e7862",
        "outputId": "48474482-d7a6-4546-e3a2-5240ddf54a75"
      },
      "outputs": [
        {
          "output_type": "stream",
          "name": "stdout",
          "text": [
            "A média de preço dos aplicativos é de 1.10 +- 16.85.\n",
            "A mediana dos preços é de 0.0.\n"
          ]
        }
      ],
      "source": [
        "print(f\"A média de preço dos aplicativos é de {stats.loc['mean', 'Price']:.2f} +- {stats.loc['std', 'Price']:.2f}.\")\n",
        "print(f\"A mediana dos preços é de {stats.loc['50%', 'Price']}.\")"
      ]
    },
    {
      "cell_type": "code",
      "execution_count": null,
      "id": "db0fc5d0-70c1-42f3-b4b5-9d882ea5918d",
      "metadata": {
        "colab": {
          "base_uri": "https://localhost:8080/"
        },
        "id": "db0fc5d0-70c1-42f3-b4b5-9d882ea5918d",
        "outputId": "c7fb1ed0-9b94-459e-a2d2-8cf185626dc3"
      },
      "outputs": [
        {
          "output_type": "stream",
          "name": "stdout",
          "text": [
            "Q1: 0.0 \n",
            "Q3: 0.0 \n",
            "IQR: 0.0 \n"
          ]
        }
      ],
      "source": [
        "Q1 = df['Price'].quantile(0.25)\n",
        "Q3 = df['Price'].quantile(0.75)\n",
        "IQR = Q3 - Q1 #Inter Quantile Range\n",
        "print(f'Q1: {Q1} \\n'\n",
        "      f'Q3: {Q3} \\n'\n",
        "      f'IQR: {IQR} ')"
      ]
    },
    {
      "cell_type": "markdown",
      "id": "b44199f5-136d-4cce-8e22-77c7cc897045",
      "metadata": {
        "id": "b44199f5-136d-4cce-8e22-77c7cc897045"
      },
      "source": [
        "**BARPLOT**"
      ]
    },
    {
      "cell_type": "markdown",
      "id": "af36bce0-705e-4ee1-aa7d-96479f58e5f3",
      "metadata": {
        "id": "af36bce0-705e-4ee1-aa7d-96479f58e5f3"
      },
      "source": [
        "Valores de `Q1` e `Q2` mostram que a maior parte dos aplicativos têm preço 0 (gratuitos). <br/>\n",
        "**Qual a proporção de aplicativos pagos e gratuitos?**"
      ]
    },
    {
      "cell_type": "code",
      "execution_count": null,
      "id": "8f9a0cda-b4d8-4a86-8e34-813fb4724482",
      "metadata": {
        "colab": {
          "base_uri": "https://localhost:8080/"
        },
        "id": "8f9a0cda-b4d8-4a86-8e34-813fb4724482",
        "outputId": "819ebbae-9f53-4aef-e232-c3f79fd623ad"
      },
      "outputs": [
        {
          "output_type": "execute_result",
          "data": {
            "text/plain": [
              "Free    92.172292\n",
              "Paid     7.827708\n",
              "Name: Type, dtype: float64"
            ]
          },
          "metadata": {},
          "execution_count": 31
        }
      ],
      "source": [
        "df_plot = df['Type'].value_counts()\n",
        "df_plot = (df_plot / df_plot.sum()) * 100\n",
        "df_plot"
      ]
    },
    {
      "cell_type": "code",
      "execution_count": null,
      "id": "f7adca86-08a3-4f2a-a3f0-b8d0cc8c2007",
      "metadata": {
        "colab": {
          "base_uri": "https://localhost:8080/"
        },
        "id": "f7adca86-08a3-4f2a-a3f0-b8d0cc8c2007",
        "outputId": "9683a3b0-c4cb-424f-98a5-350d1700b06a"
      },
      "outputs": [
        {
          "output_type": "display_data",
          "data": {
            "text/plain": [
              "<Figure size 720x432 with 1 Axes>"
            ],
            "image/png": "[encoded data removed]"
          },
          "metadata": {}
        }
      ],
      "source": [
        "plt.bar(df_plot.index, df_plot)\n",
        "plt.ylabel(\"Porcentagem (%)\")\n",
        "plt.yticks(np.arange(0, 101, 20))\n",
        "plt.title('Porcetagem de Apps gratuitos vs pagos')\n",
        "plt.show()"
      ]
    },
    {
      "cell_type": "markdown",
      "id": "5d339f47-d683-4ea9-9d87-b0db4e0de794",
      "metadata": {
        "id": "5d339f47-d683-4ea9-9d87-b0db4e0de794"
      },
      "source": [
        "De fato, `92%` dos aplicativos são gratuitos. Então vamos analisar média de preços do aplicativos pagos."
      ]
    },
    {
      "cell_type": "markdown",
      "id": "2aaacf4f-9f51-435a-a9ef-a4cfcac11e4d",
      "metadata": {
        "id": "2aaacf4f-9f51-435a-a9ef-a4cfcac11e4d"
      },
      "source": [
        "**BOXPLOT**"
      ]
    },
    {
      "cell_type": "code",
      "execution_count": null,
      "id": "ff6152fe-a179-494f-89f9-6224dcf1a503",
      "metadata": {
        "colab": {
          "base_uri": "https://localhost:8080/"
        },
        "id": "ff6152fe-a179-494f-89f9-6224dcf1a503",
        "outputId": "5a0a100e-d881-4067-eb95-ffe08df9e164"
      },
      "outputs": [
        {
          "output_type": "execute_result",
          "data": {
            "text/plain": [
              "                                               App       Category  Rating  \\\n",
              "233  TurboScan: scan documents and receipts in PDF       BUSINESS     4.7   \n",
              "234                 Tiny Scanner Pro: PDF Doc Scan       BUSINESS     4.8   \n",
              "372                             Puffin Browser Pro  COMMUNICATION     4.0   \n",
              "406                      Moco+ - Chat, Meet People         DATING     4.2   \n",
              "407                                     Calculator         DATING     2.6   \n",
              "\n",
              "     Reviews        Size  Installs  Type  Price Content Rating Last Updated  \\\n",
              "233  11442.0   6800000.0    100000  Paid   4.99       Everyone   2018-03-25   \n",
              "234  10295.0  39000000.0    100000  Paid   4.99       Everyone   2017-04-11   \n",
              "372  18247.0         NaN    100000  Paid   3.99       Everyone   2018-07-05   \n",
              "406   1545.0         NaN     10000  Paid   3.99     Mature 17+   2018-06-19   \n",
              "407     57.0   6200000.0      1000  Paid   6.99       Everyone   2017-10-25   \n",
              "\n",
              "     Current Ver Android Ver    First_Genre      Sec_Genre  \n",
              "233        1.5.2  4.0 and up       Business       Business  \n",
              "234        3.4.6  3.0 and up       Business       Business  \n",
              "372  7.5.3.20547  4.1 and up  Communication  Communication  \n",
              "406      2.6.139  4.1 and up         Dating         Dating  \n",
              "407        1.1.6  4.0 and up         Dating         Dating  "
            ],
            "text/html": [
              "\n",
              "  <div id=\"df-653e323a-58c7-4672-b932-b126222abb64\">\n",
              "    <div class=\"colab-df-container\">\n",
              "      <div>\n",
              "<style scoped>\n",
              "    .dataframe tbody tr th:only-of-type {\n",
              "        vertical-align: middle;\n",
              "    }\n",
              "\n",
              "    .dataframe tbody tr th {\n",
              "        vertical-align: top;\n",
              "    }\n",
              "\n",
              "    .dataframe thead th {\n",
              "        text-align: right;\n",
              "    }\n",
              "</style>\n",
              "<table border=\"1\" class=\"dataframe\">\n",
              "  <thead>\n",
              "    <tr style=\"text-align: right;\">\n",
              "      <th></th>\n",
              "      <th>App</th>\n",
              "      <th>Category</th>\n",
              "      <th>Rating</th>\n",
              "      <th>Reviews</th>\n",
              "      <th>Size</th>\n",
              "      <th>Installs</th>\n",
              "      <th>Type</th>\n",
              "      <th>Price</th>\n",
              "      <th>Content Rating</th>\n",
              "      <th>Last Updated</th>\n",
              "      <th>Current Ver</th>\n",
              "      <th>Android Ver</th>\n",
              "      <th>First_Genre</th>\n",
              "      <th>Sec_Genre</th>\n",
              "    </tr>\n",
              "  </thead>\n",
              "  <tbody>\n",
              "    <tr>\n",
              "      <th>233</th>\n",
              "      <td>TurboScan: scan documents and receipts in PDF</td>\n",
              "      <td>BUSINESS</td>\n",
              "      <td>4.7</td>\n",
              "      <td>11442.0</td>\n",
              "      <td>6800000.0</td>\n",
              "      <td>100000</td>\n",
              "      <td>Paid</td>\n",
              "      <td>4.99</td>\n",
              "      <td>Everyone</td>\n",
              "      <td>2018-03-25</td>\n",
              "      <td>1.5.2</td>\n",
              "      <td>4.0 and up</td>\n",
              "      <td>Business</td>\n",
              "      <td>Business</td>\n",
              "    </tr>\n",
              "    <tr>\n",
              "      <th>234</th>\n",
              "      <td>Tiny Scanner Pro: PDF Doc Scan</td>\n",
              "      <td>BUSINESS</td>\n",
              "      <td>4.8</td>\n",
              "      <td>10295.0</td>\n",
              "      <td>39000000.0</td>\n",
              "      <td>100000</td>\n",
              "      <td>Paid</td>\n",
              "      <td>4.99</td>\n",
              "      <td>Everyone</td>\n",
              "      <td>2017-04-11</td>\n",
              "      <td>3.4.6</td>\n",
              "      <td>3.0 and up</td>\n",
              "      <td>Business</td>\n",
              "      <td>Business</td>\n",
              "    </tr>\n",
              "    <tr>\n",
              "      <th>372</th>\n",
              "      <td>Puffin Browser Pro</td>\n",
              "      <td>COMMUNICATION</td>\n",
              "      <td>4.0</td>\n",
              "      <td>18247.0</td>\n",
              "      <td>NaN</td>\n",
              "      <td>100000</td>\n",
              "      <td>Paid</td>\n",
              "      <td>3.99</td>\n",
              "      <td>Everyone</td>\n",
              "      <td>2018-07-05</td>\n",
              "      <td>7.5.3.20547</td>\n",
              "      <td>4.1 and up</td>\n",
              "      <td>Communication</td>\n",
              "      <td>Communication</td>\n",
              "    </tr>\n",
              "    <tr>\n",
              "      <th>406</th>\n",
              "      <td>Moco+ - Chat, Meet People</td>\n",
              "      <td>DATING</td>\n",
              "      <td>4.2</td>\n",
              "      <td>1545.0</td>\n",
              "      <td>NaN</td>\n",
              "      <td>10000</td>\n",
              "      <td>Paid</td>\n",
              "      <td>3.99</td>\n",
              "      <td>Mature 17+</td>\n",
              "      <td>2018-06-19</td>\n",
              "      <td>2.6.139</td>\n",
              "      <td>4.1 and up</td>\n",
              "      <td>Dating</td>\n",
              "      <td>Dating</td>\n",
              "    </tr>\n",
              "    <tr>\n",
              "      <th>407</th>\n",
              "      <td>Calculator</td>\n",
              "      <td>DATING</td>\n",
              "      <td>2.6</td>\n",
              "      <td>57.0</td>\n",
              "      <td>6200000.0</td>\n",
              "      <td>1000</td>\n",
              "      <td>Paid</td>\n",
              "      <td>6.99</td>\n",
              "      <td>Everyone</td>\n",
              "      <td>2017-10-25</td>\n",
              "      <td>1.1.6</td>\n",
              "      <td>4.0 and up</td>\n",
              "      <td>Dating</td>\n",
              "      <td>Dating</td>\n",
              "    </tr>\n",
              "  </tbody>\n",
              "</table>\n",
              "</div>\n",
              "      <button class=\"colab-df-convert\" onclick=\"convertToInteractive('df-653e323a-58c7-4672-b932-b126222abb64')\"\n",
              "              title=\"Convert this dataframe to an interactive table.\"\n",
              "              style=\"display:none;\">\n",
              "        \n",
              "  <svg xmlns=\"http://www.w3.org/2000/svg\" height=\"24px\"viewBox=\"0 0 24 24\"\n",
              "       width=\"24px\">\n",
              "    <path d=\"M0 0h24v24H0V0z\" fill=\"none\"/>\n",
              "    <path d=\"M18.56 5.44l.94 2.06.94-2.06 2.06-.94-2.06-.94-.94-2.06-.94 2.06-2.06.94zm-11 1L8.5 8.5l.94-2.06 2.06-.94-2.06-.94L8.5 2.5l-.94 2.06-2.06.94zm10 10l.94 2.06.94-2.06 2.06-.94-2.06-.94-.94-2.06-.94 2.06-2.06.94z\"/><path d=\"M17.41 7.96l-1.37-1.37c-.4-.4-.92-.59-1.43-.59-.52 0-1.04.2-1.43.59L10.3 9.45l-7.72 7.72c-.78.78-.78 2.05 0 2.83L4 21.41c.39.39.9.59 1.41.59.51 0 1.02-.2 1.41-.59l7.78-7.78 2.81-2.81c.8-.78.8-2.07 0-2.86zM5.41 20L4 18.59l7.72-7.72 1.47 1.35L5.41 20z\"/>\n",
              "  </svg>\n",
              "      </button>\n",
              "      \n",
              "  <style>\n",
              "    .colab-df-container {\n",
              "      display:flex;\n",
              "      flex-wrap:wrap;\n",
              "      gap: 12px;\n",
              "    }\n",
              "\n",
              "    .colab-df-convert {\n",
              "      background-color: #E8F0FE;\n",
              "      border: none;\n",
              "      border-radius: 50%;\n",
              "      cursor: pointer;\n",
              "      display: none;\n",
              "      fill: #1967D2;\n",
              "      height: 32px;\n",
              "      padding: 0 0 0 0;\n",
              "      width: 32px;\n",
              "    }\n",
              "\n",
              "    .colab-df-convert:hover {\n",
              "      background-color: #E2EBFA;\n",
              "      box-shadow: 0px 1px 2px rgba(60, 64, 67, 0.3), 0px 1px 3px 1px rgba(60, 64, 67, 0.15);\n",
              "      fill: #174EA6;\n",
              "    }\n",
              "\n",
              "    [theme=dark] .colab-df-convert {\n",
              "      background-color: #3B4455;\n",
              "      fill: #D2E3FC;\n",
              "    }\n",
              "\n",
              "    [theme=dark] .colab-df-convert:hover {\n",
              "      background-color: #434B5C;\n",
              "      box-shadow: 0px 1px 3px 1px rgba(0, 0, 0, 0.15);\n",
              "      filter: drop-shadow(0px 1px 2px rgba(0, 0, 0, 0.3));\n",
              "      fill: #FFFFFF;\n",
              "    }\n",
              "  </style>\n",
              "\n",
              "      <script>\n",
              "        const buttonEl =\n",
              "          document.querySelector('#df-653e323a-58c7-4672-b932-b126222abb64 button.colab-df-convert');\n",
              "        buttonEl.style.display =\n",
              "          google.colab.kernel.accessAllowed ? 'block' : 'none';\n",
              "\n",
              "        async function convertToInteractive(key) {\n",
              "          const element = document.querySelector('#df-653e323a-58c7-4672-b932-b126222abb64');\n",
              "          const dataTable =\n",
              "            await google.colab.kernel.invokeFunction('convertToInteractive',\n",
              "                                                     [key], {});\n",
              "          if (!dataTable) return;\n",
              "\n",
              "          const docLinkHtml = 'Like what you see? Visit the ' +\n",
              "            '<a target=\"_blank\" href=https://colab.research.google.com/notebooks/data_table.ipynb>data table notebook</a>'\n",
              "            + ' to learn more about interactive tables.';\n",
              "          element.innerHTML = '';\n",
              "          dataTable['output_type'] = 'display_data';\n",
              "          await google.colab.output.renderOutput(dataTable, element);\n",
              "          const docLink = document.createElement('div');\n",
              "          docLink.innerHTML = docLinkHtml;\n",
              "          element.appendChild(docLink);\n",
              "        }\n",
              "      </script>\n",
              "    </div>\n",
              "  </div>\n",
              "  "
            ]
          },
          "metadata": {},
          "execution_count": 33
        }
      ],
      "source": [
        "cond = df['Type'] == \"Paid\"\n",
        "df_paid_apps = df[cond].copy()\n",
        "df_paid_apps.head()"
      ]
    },
    {
      "cell_type": "code",
      "execution_count": null,
      "id": "4da78f96-8f53-4918-9581-4aa802ee31c1",
      "metadata": {
        "colab": {
          "base_uri": "https://localhost:8080/"
        },
        "id": "4da78f96-8f53-4918-9581-4aa802ee31c1",
        "outputId": "bb965aa1-17b7-40b1-9e59-422b26ce48de"
      },
      "outputs": [
        {
          "output_type": "execute_result",
          "data": {
            "text/plain": [
              "count    756.000000\n",
              "mean      14.045146\n",
              "std       58.743615\n",
              "min        0.990000\n",
              "25%        1.490000\n",
              "50%        2.990000\n",
              "75%        4.990000\n",
              "max      400.000000\n",
              "Name: Price, dtype: float64"
            ]
          },
          "metadata": {},
          "execution_count": 34
        }
      ],
      "source": [
        "df_paid_apps['Price'].describe()"
      ]
    },
    {
      "cell_type": "code",
      "execution_count": null,
      "id": "fcd1035c-9d60-49db-9cc3-6ad6c90d182e",
      "metadata": {
        "colab": {
          "base_uri": "https://localhost:8080/"
        },
        "id": "fcd1035c-9d60-49db-9cc3-6ad6c90d182e",
        "outputId": "1dad6e86-863a-42c2-ff87-59e477d10c51"
      },
      "outputs": [
        {
          "output_type": "display_data",
          "data": {
            "text/plain": [
              "<Figure size 1296x288 with 2 Axes>"
            ],
            "image/png": "[encoded data removed]"
          },
          "metadata": {}
        }
      ],
      "source": [
        "fig, (ax1, ax2) = plt.subplots(1, 2,  figsize = (18, 4))\n",
        "sns.boxplot(data=df_paid_apps, x='Price', color=base_color, ax=ax1)\n",
        "sns.boxplot(data=df_paid_apps, x='Price', color=base_color, ax=ax2, showfliers=False)\n",
        "ax1.set_title('Boxplot dos preços')\n",
        "ax2.set_title('Boxplot dos preços')\n",
        "plt.show()"
      ]
    },
    {
      "cell_type": "code",
      "execution_count": null,
      "id": "87364200-553a-4029-8173-1f46b8b69cfa",
      "metadata": {
        "colab": {
          "base_uri": "https://localhost:8080/"
        },
        "id": "87364200-553a-4029-8173-1f46b8b69cfa",
        "outputId": "b91446c3-5caa-4041-f286-918542481c56"
      },
      "outputs": [
        {
          "output_type": "stream",
          "name": "stdout",
          "text": [
            "Q1: 1.49 \n",
            "Q3: 4.99 \n",
            "IQR: 3.5 \n"
          ]
        }
      ],
      "source": [
        "Q1 = df_paid_apps['Price'].quantile(0.25)\n",
        "Q3 = df_paid_apps['Price'].quantile(0.75)\n",
        "IQR = Q3 - Q1 #Inter Quantile Range\n",
        "print(f'Q1: {Q1} \\n'\n",
        "      f'Q3: {Q3} \\n'\n",
        "      f'IQR: {IQR} ')"
      ]
    },
    {
      "cell_type": "markdown",
      "id": "180a00d1-8fbb-4fbf-81a4-f9cce0323b25",
      "metadata": {
        "id": "180a00d1-8fbb-4fbf-81a4-f9cce0323b25"
      },
      "source": [
        "Pode-se visualizar que `50%` dos apps possuem preços entre entre $1.49 (Q1) e 4.99 (Q3)."
      ]
    },
    {
      "cell_type": "markdown",
      "id": "2cbc7891-7484-4a45-8fe9-e10b3e5735f0",
      "metadata": {
        "id": "2cbc7891-7484-4a45-8fe9-e10b3e5735f0"
      },
      "source": [
        "**HISTOGRAMA**"
      ]
    },
    {
      "cell_type": "code",
      "execution_count": null,
      "id": "d0deeead-96fc-4f57-ae17-39a7a1fe0d33",
      "metadata": {
        "colab": {
          "base_uri": "https://localhost:8080/"
        },
        "id": "d0deeead-96fc-4f57-ae17-39a7a1fe0d33",
        "outputId": "35fb1984-8d39-49c9-fd15-a4f032f75284"
      },
      "outputs": [
        {
          "output_type": "display_data",
          "data": {
            "text/plain": [
              "<Figure size 720x432 with 1 Axes>"
            ],
            "image/png": "[encoded data removed]"
          },
          "metadata": {}
        }
      ],
      "source": [
        "cond = df['Price'] <= Q3\n",
        "sns.histplot(df_paid_apps.loc[cond, 'Price'])\n",
        "plt.xlabel('Preço')\n",
        "plt.ylabel('Contagem')\n",
        "plt.title('Histograma das preços')\n",
        "plt.show()"
      ]
    },
    {
      "cell_type": "code",
      "execution_count": null,
      "id": "0795220c-7b52-4e44-834b-7c8cf9484834",
      "metadata": {
        "colab": {
          "base_uri": "https://localhost:8080/"
        },
        "id": "0795220c-7b52-4e44-834b-7c8cf9484834",
        "outputId": "30388718-830a-4dba-d362-3dd4f6a3a101"
      },
      "outputs": [
        {
          "output_type": "stream",
          "name": "stdout",
          "text": [
            "<class 'pandas.core.frame.DataFrame'>\n",
            "RangeIndex: 9659 entries, 0 to 9658\n",
            "Data columns (total 14 columns):\n",
            " #   Column          Non-Null Count  Dtype  \n",
            "---  ------          --------------  -----  \n",
            " 0   App             9659 non-null   object \n",
            " 1   Category        9659 non-null   object \n",
            " 2   Rating          8196 non-null   float64\n",
            " 3   Reviews         9659 non-null   float64\n",
            " 4   Size            8432 non-null   float64\n",
            " 5   Installs        9659 non-null   int64  \n",
            " 6   Type            9658 non-null   object \n",
            " 7   Price           9659 non-null   float64\n",
            " 8   Content Rating  9659 non-null   object \n",
            " 9   Last Updated    9659 non-null   object \n",
            " 10  Current Ver     9659 non-null   object \n",
            " 11  Android Ver     9657 non-null   object \n",
            " 12  First_Genre     9659 non-null   object \n",
            " 13  Sec_Genre       9659 non-null   object \n",
            "dtypes: float64(4), int64(1), object(9)\n",
            "memory usage: 1.0+ MB\n"
          ]
        }
      ],
      "source": [
        "df.info()"
      ]
    },
    {
      "cell_type": "markdown",
      "id": "2f65f783-35cb-4136-95b9-5e831cf730c4",
      "metadata": {
        "id": "2f65f783-35cb-4136-95b9-5e831cf730c4"
      },
      "source": [
        "### 2.1.2 Varáveis categóricas"
      ]
    },
    {
      "cell_type": "markdown",
      "id": "44f219de-3b55-45ec-965d-9891d7b7b4f1",
      "metadata": {
        "id": "44f219de-3b55-45ec-965d-9891d7b7b4f1"
      },
      "source": [
        "### INSTALLS\n",
        "Embora tenha domínio inteiro, podemos considerar essa variável categórica, pois possui apenas 20 valores únicos"
      ]
    },
    {
      "cell_type": "code",
      "execution_count": null,
      "id": "e953b6e6-517c-45a5-972a-4152f5fa2192",
      "metadata": {
        "id": "e953b6e6-517c-45a5-972a-4152f5fa2192"
      },
      "outputs": [],
      "source": [
        "df['Installs'].unique()"
      ]
    },
    {
      "cell_type": "markdown",
      "id": "a06cd4af-0e51-42d6-ba7f-e252a4d1d6f5",
      "metadata": {
        "id": "a06cd4af-0e51-42d6-ba7f-e252a4d1d6f5"
      },
      "source": [
        "O gráfico de barras é comumente o mais usado para visualizar variáveis categóricas. <br/>\n",
        "`sns.countplot()`"
      ]
    },
    {
      "cell_type": "code",
      "execution_count": null,
      "id": "1c4cd4b4-b245-4805-9b76-1f972dddc2b3",
      "metadata": {
        "id": "1c4cd4b4-b245-4805-9b76-1f972dddc2b3"
      },
      "outputs": [],
      "source": [
        "sns.countplot(y = 'Installs', data = df, color=base_color, order = df['Installs'].value_counts().index)\n",
        "plt.title('Número de instalações')\n",
        "plt.xlabel('Contagem')\n",
        "plt.ylabel('Instalações')\n",
        "plt.show()"
      ]
    },
    {
      "cell_type": "markdown",
      "id": "ffe8c5b8-e8e3-4502-a2dd-a8bc42f32996",
      "metadata": {
        "id": "ffe8c5b8-e8e3-4502-a2dd-a8bc42f32996"
      },
      "source": [
        "**Qual o percentual de apps que possuem mais de 1e+6 instalações?**"
      ]
    },
    {
      "cell_type": "code",
      "execution_count": null,
      "id": "fbfc091f-9d44-411c-8c92-7177ccb21c1f",
      "metadata": {
        "id": "fbfc091f-9d44-411c-8c92-7177ccb21c1f"
      },
      "outputs": [],
      "source": [
        "apps_installs_percent = (df.query('Installs >= 1e+6').shape[0] / df.shape[0]) * 100\n",
        "print(f'{apps_installs_percent:.2f} % dos apps de nossa base de dados possuem mais de 1e+6 de instalações')"
      ]
    },
    {
      "cell_type": "markdown",
      "id": "31c9b327-32f9-4b35-ad3f-cd683632e48e",
      "metadata": {
        "id": "31c9b327-32f9-4b35-ad3f-cd683632e48e"
      },
      "source": [
        "**Quais são os 10 apps mais baixados?**"
      ]
    },
    {
      "cell_type": "code",
      "execution_count": null,
      "id": "a4c24d48-9210-45b2-ab32-a6255db96366",
      "metadata": {
        "id": "a4c24d48-9210-45b2-ab32-a6255db96366"
      },
      "outputs": [],
      "source": [
        "top10_apps = df.sort_values(by='Installs', ascending=False).head(10)\n",
        "top10_apps[['App', 'Rating', 'Installs']]"
      ]
    },
    {
      "cell_type": "code",
      "execution_count": null,
      "id": "66826606-852a-4318-a088-c0650eeb2c34",
      "metadata": {
        "id": "66826606-852a-4318-a088-c0650eeb2c34"
      },
      "outputs": [],
      "source": [
        "df.query('Installs == 1000000000').shape[0]"
      ]
    },
    {
      "cell_type": "markdown",
      "id": "ceaea986-4c06-46f8-936c-f1d8ceade9e5",
      "metadata": {
        "id": "ceaea986-4c06-46f8-936c-f1d8ceade9e5"
      },
      "source": [
        "Existem de 20 apps com 1B de instalações. Depois vamos considerar mais uma variável (Rating) para refazer essa análise. "
      ]
    },
    {
      "cell_type": "markdown",
      "id": "cb2d9cc8-b6b6-4913-bce5-bce1f39d1791",
      "metadata": {
        "id": "cb2d9cc8-b6b6-4913-bce5-bce1f39d1791"
      },
      "source": [
        "### CATEGORY"
      ]
    },
    {
      "cell_type": "code",
      "execution_count": null,
      "id": "db7d6141-537e-4a23-9aa6-c1f67d303373",
      "metadata": {
        "id": "db7d6141-537e-4a23-9aa6-c1f67d303373"
      },
      "outputs": [],
      "source": [
        "df['Category'].unique()"
      ]
    },
    {
      "cell_type": "code",
      "execution_count": null,
      "id": "6c994d08-9f05-4526-89ed-4c0afbcd9ee1",
      "metadata": {
        "id": "6c994d08-9f05-4526-89ed-4c0afbcd9ee1"
      },
      "outputs": [],
      "source": [
        "plt.figure(figsize=(12,7))\n",
        "order = df['Category'].value_counts().index\n",
        "sns.countplot(y = 'Category', data = df, color=base_color, order = order)\n",
        "plt.title('Número de apps por categoria')\n",
        "plt.xlabel('Contagem')\n",
        "plt.ylabel('Categoria')\n",
        "plt.yticks(size=10)\n",
        "plt.show()"
      ]
    },
    {
      "cell_type": "code",
      "execution_count": null,
      "id": "6a163cb3-1333-4135-84c7-b9293e69e0cc",
      "metadata": {
        "id": "6a163cb3-1333-4135-84c7-b9293e69e0cc"
      },
      "outputs": [],
      "source": [
        "df.query('Category == \"FAMILY\"').head(10)"
      ]
    },
    {
      "cell_type": "code",
      "execution_count": null,
      "id": "fc64a476-bc5c-49c0-9060-f7af75df67da",
      "metadata": {
        "id": "fc64a476-bc5c-49c0-9060-f7af75df67da"
      },
      "outputs": [],
      "source": [
        "df.info()"
      ]
    },
    {
      "cell_type": "markdown",
      "id": "8313e380-6817-424f-84e9-3ccba58f3953",
      "metadata": {
        "id": "8313e380-6817-424f-84e9-3ccba58f3953"
      },
      "source": [
        "### CONTENT RATING"
      ]
    },
    {
      "cell_type": "code",
      "execution_count": null,
      "id": "34be6c54-8439-46d7-b053-78c21320c6b8",
      "metadata": {
        "id": "34be6c54-8439-46d7-b053-78c21320c6b8"
      },
      "outputs": [],
      "source": [
        "df['Content Rating'].unique()"
      ]
    },
    {
      "cell_type": "code",
      "execution_count": null,
      "id": "0046a93d-fdd9-4ecd-bc85-4bdfb75e5984",
      "metadata": {
        "id": "0046a93d-fdd9-4ecd-bc85-4bdfb75e5984"
      },
      "outputs": [],
      "source": [
        "df_plot = df['Content Rating'].value_counts()\n",
        "df_plot = (df_plot / df_plot.sum()) * 100\n",
        "df_plot"
      ]
    },
    {
      "cell_type": "code",
      "execution_count": null,
      "id": "4f705c8f-7978-4d51-a7b9-c63d328cdc18",
      "metadata": {
        "id": "4f705c8f-7978-4d51-a7b9-c63d328cdc18"
      },
      "outputs": [],
      "source": [
        "plt.barh(df_plot.index, df_plot)\n",
        "plt.xlabel(\"Porcentagem (%)\")\n",
        "plt.xticks(np.arange(0, 101, 20))\n",
        "plt.title('Porcetagem de Apps por classificação de conteúdo')\n",
        "plt.show()"
      ]
    },
    {
      "cell_type": "code",
      "execution_count": null,
      "id": "a713623a-a8a6-4913-bbeb-ac3d0dbb5dc1",
      "metadata": {
        "id": "a713623a-a8a6-4913-bbeb-ac3d0dbb5dc1"
      },
      "outputs": [],
      "source": [
        "df.info()"
      ]
    },
    {
      "cell_type": "markdown",
      "id": "167c1975-6358-47b3-9273-8de48cc6e78e",
      "metadata": {
        "id": "167c1975-6358-47b3-9273-8de48cc6e78e"
      },
      "source": [
        "### ANDROID VER"
      ]
    },
    {
      "cell_type": "code",
      "execution_count": null,
      "id": "11a09825-4807-4452-b917-231288cfe5d9",
      "metadata": {
        "id": "11a09825-4807-4452-b917-231288cfe5d9"
      },
      "outputs": [],
      "source": [
        "df['Android Ver'].unique()"
      ]
    },
    {
      "cell_type": "code",
      "execution_count": null,
      "id": "9629ba1c-d6a0-4724-b45e-67acf230244a",
      "metadata": {
        "id": "9629ba1c-d6a0-4724-b45e-67acf230244a"
      },
      "outputs": [],
      "source": [
        "plt.figure(figsize=(12,7))\n",
        "order = df['Android Ver'].value_counts().index\n",
        "sns.countplot(y = 'Android Ver', data = df, color=base_color, order = order)\n",
        "plt.title('Número de apps por versão do android')\n",
        "plt.xlabel('Contagem')\n",
        "plt.ylabel('Android Ver')\n",
        "plt.yticks(size=10)\n",
        "plt.show()"
      ]
    },
    {
      "cell_type": "code",
      "execution_count": null,
      "id": "47c18833-5e5f-4911-a394-51812f41225c",
      "metadata": {
        "id": "47c18833-5e5f-4911-a394-51812f41225c"
      },
      "outputs": [],
      "source": [
        "df['Android Ver'].value_counts()"
      ]
    },
    {
      "cell_type": "code",
      "execution_count": null,
      "id": "c4c2754f-a132-460a-ba88-a3f4e7721be5",
      "metadata": {
        "id": "c4c2754f-a132-460a-ba88-a3f4e7721be5"
      },
      "outputs": [],
      "source": [
        "cond = df['Android Ver'] == \"2.2 - 7.1.1\" \n",
        "df[cond]"
      ]
    },
    {
      "cell_type": "markdown",
      "id": "0e61c7c2-b86e-4e02-a124-ef5dcabcba87",
      "metadata": {
        "id": "0e61c7c2-b86e-4e02-a124-ef5dcabcba87"
      },
      "source": [
        "Talvez seja necessário pesquisar mais a respeito das versões do android para identifar possíveis erros de versão."
      ]
    },
    {
      "cell_type": "markdown",
      "id": "299dc51c-21a2-411e-bd7b-2cd7b02d8f03",
      "metadata": {
        "id": "299dc51c-21a2-411e-bd7b-2cd7b02d8f03"
      },
      "source": [
        "### FIRST_GENRE"
      ]
    },
    {
      "cell_type": "code",
      "execution_count": null,
      "id": "6548b970-4b83-48dd-9ec7-1a2c85d5454e",
      "metadata": {
        "id": "6548b970-4b83-48dd-9ec7-1a2c85d5454e"
      },
      "outputs": [],
      "source": [
        "df['First_Genre'].unique()"
      ]
    },
    {
      "cell_type": "code",
      "execution_count": null,
      "id": "b44b0f26-0a42-4286-8655-966ca5c63d78",
      "metadata": {
        "id": "b44b0f26-0a42-4286-8655-966ca5c63d78"
      },
      "outputs": [],
      "source": [
        "plt.figure(figsize=(12,7))\n",
        "order = df['First_Genre'].value_counts().index\n",
        "sns.countplot(y = 'First_Genre', data = df, color=base_color, order = order)\n",
        "plt.title('Número de apps por First_Genre')\n",
        "plt.xlabel('Contagem')\n",
        "plt.ylabel('First_Genre')\n",
        "plt.yticks(size=10)\n",
        "plt.show()"
      ]
    },
    {
      "cell_type": "markdown",
      "id": "99db4251-53d5-4510-912f-84d4dcc57e49",
      "metadata": {
        "id": "99db4251-53d5-4510-912f-84d4dcc57e49"
      },
      "source": [
        "## 2.2 Análise Bivariada\n",
        "\n",
        "- Usaremos a análise bivariada para encontrar relações entre duas variáveis.\n",
        "- Para análise bivariada, geralmente usamos boxplot (categórico versus numérico), gráfico de dispersão (numérico versus numérico) ou tabela de contingência (categórico versus categórico)."
      ]
    },
    {
      "cell_type": "markdown",
      "id": "e4f51dc0-9d4e-4a9b-8ca6-f41e76870c8b",
      "metadata": {
        "id": "e4f51dc0-9d4e-4a9b-8ca6-f41e76870c8b"
      },
      "source": [
        "### CATEGORY vs RATING"
      ]
    },
    {
      "cell_type": "markdown",
      "id": "3d9748da-4e2b-4f13-a324-09c0a0fe9526",
      "metadata": {
        "id": "3d9748da-4e2b-4f13-a324-09c0a0fe9526"
      },
      "source": [
        "**Quais categorias são melhorres avaliadas?**"
      ]
    },
    {
      "cell_type": "code",
      "execution_count": null,
      "id": "59c2026d-0997-4c69-8c4c-52fe71f3e322",
      "metadata": {
        "colab": {
          "base_uri": "https://localhost:8080/",
          "height": 1000
        },
        "id": "59c2026d-0997-4c69-8c4c-52fe71f3e322",
        "outputId": "b65352f6-4268-400c-b1f6-69dc387898bb"
      },
      "outputs": [
        {
          "output_type": "execute_result",
          "data": {
            "text/plain": [
              "                      count      mean       std  min    25%  50%    75%  max\n",
              "Category                                                                    \n",
              "EVENTS                 45.0  4.435556  0.419499  2.9  4.200  4.5  4.700  5.0\n",
              "EDUCATION             118.0  4.364407  0.263612  3.5  4.200  4.4  4.600  4.9\n",
              "ART_AND_DESIGN         61.0  4.357377  0.361229  3.2  4.100  4.4  4.700  5.0\n",
              "BOOKS_AND_REFERENCE   169.0  4.344970  0.437649  2.7  4.100  4.5  4.600  5.0\n",
              "PERSONALIZATION       298.0  4.332215  0.358968  2.5  4.200  4.4  4.600  5.0\n",
              "PARENTING              50.0  4.300000  0.517845  2.0  4.100  4.4  4.675  5.0\n",
              "BEAUTY                 42.0  4.278571  0.362603  3.1  4.000  4.3  4.575  4.9\n",
              "GAME                  912.0  4.247368  0.384116  1.0  4.100  4.3  4.500  5.0\n",
              "SOCIAL                203.0  4.247291  0.457209  1.9  4.100  4.3  4.500  5.0\n",
              "WEATHER                72.0  4.243056  0.337692  3.3  4.000  4.3  4.500  4.8\n",
              "HEALTH_AND_FITNESS    244.0  4.243033  0.668818  1.4  4.100  4.5  4.600  5.0\n",
              "SHOPPING              180.0  4.230000  0.445198  1.6  4.100  4.3  4.500  5.0\n",
              "SPORTS                260.0  4.216154  0.462627  1.5  4.000  4.3  4.500  5.0\n",
              "AUTO_AND_VEHICLES      73.0  4.190411  0.543692  2.1  4.000  4.3  4.600  4.9\n",
              "PRODUCTIVITY          301.0  4.183389  0.534281  1.0  4.000  4.3  4.500  5.0\n",
              "COMICS                 54.0  4.181481  0.526317  2.8  3.900  4.4  4.500  5.0\n",
              "FAMILY               1608.0  4.179664  0.523323  1.0  4.000  4.3  4.500  5.0\n",
              "LIBRARIES_AND_DEMO     64.0  4.178125  0.381504  3.1  3.975  4.2  4.400  5.0\n",
              "FOOD_AND_DRINK         94.0  4.172340  0.566901  1.7  4.000  4.3  4.500  5.0\n",
              "MEDICAL               290.0  4.166552  0.690984  1.0  3.900  4.3  4.600  5.0\n",
              "PHOTOGRAPHY           263.0  4.157414  0.494331  2.0  4.000  4.3  4.500  5.0\n",
              "HOUSE_AND_HOME         62.0  4.150000  0.379711  2.8  3.925  4.2  4.475  4.8\n",
              "ENTERTAINMENT         102.0  4.135294  0.328407  3.0  3.900  4.2  4.300  4.7\n",
              "NEWS_AND_MAGAZINES    204.0  4.121569  0.566578  1.7  3.900  4.2  4.500  5.0\n",
              "COMMUNICATION         256.0  4.121484  0.470260  1.0  4.000  4.2  4.400  5.0\n",
              "FINANCE               302.0  4.115563  0.659147  1.0  3.925  4.3  4.500  5.0\n",
              "BUSINESS              263.0  4.098479  0.659862  1.0  3.800  4.2  4.500  5.0\n",
              "LIFESTYLE             301.0  4.093355  0.704951  1.5  3.800  4.2  4.600  5.0\n",
              "TRAVEL_AND_LOCAL      187.0  4.069519  0.532070  2.2  3.800  4.2  4.400  5.0\n",
              "VIDEO_PLAYERS         148.0  4.044595  0.563792  1.8  3.775  4.2  4.400  4.9\n",
              "TOOLS                 718.0  4.039554  0.620272  1.0  3.800  4.2  4.400  5.0\n",
              "MAPS_AND_NAVIGATION   118.0  4.036441  0.527316  1.9  3.700  4.2  4.400  4.9\n",
              "DATING                134.0  3.970149  0.637786  1.0  3.600  4.1  4.400  5.0"
            ],
            "text/html": [
              "\n",
              "  <div id=\"df-6053275b-e28a-4cf5-80db-83a49cb22612\">\n",
              "    <div class=\"colab-df-container\">\n",
              "      <div>\n",
              "<style scoped>\n",
              "    .dataframe tbody tr th:only-of-type {\n",
              "        vertical-align: middle;\n",
              "    }\n",
              "\n",
              "    .dataframe tbody tr th {\n",
              "        vertical-align: top;\n",
              "    }\n",
              "\n",
              "    .dataframe thead th {\n",
              "        text-align: right;\n",
              "    }\n",
              "</style>\n",
              "<table border=\"1\" class=\"dataframe\">\n",
              "  <thead>\n",
              "    <tr style=\"text-align: right;\">\n",
              "      <th></th>\n",
              "      <th>count</th>\n",
              "      <th>mean</th>\n",
              "      <th>std</th>\n",
              "      <th>min</th>\n",
              "      <th>25%</th>\n",
              "      <th>50%</th>\n",
              "      <th>75%</th>\n",
              "      <th>max</th>\n",
              "    </tr>\n",
              "    <tr>\n",
              "      <th>Category</th>\n",
              "      <th></th>\n",
              "      <th></th>\n",
              "      <th></th>\n",
              "      <th></th>\n",
              "      <th></th>\n",
              "      <th></th>\n",
              "      <th></th>\n",
              "      <th></th>\n",
              "    </tr>\n",
              "  </thead>\n",
              "  <tbody>\n",
              "    <tr>\n",
              "      <th>EVENTS</th>\n",
              "      <td>45.0</td>\n",
              "      <td>4.435556</td>\n",
              "      <td>0.419499</td>\n",
              "      <td>2.9</td>\n",
              "      <td>4.200</td>\n",
              "      <td>4.5</td>\n",
              "      <td>4.700</td>\n",
              "      <td>5.0</td>\n",
              "    </tr>\n",
              "    <tr>\n",
              "      <th>EDUCATION</th>\n",
              "      <td>118.0</td>\n",
              "      <td>4.364407</td>\n",
              "      <td>0.263612</td>\n",
              "      <td>3.5</td>\n",
              "      <td>4.200</td>\n",
              "      <td>4.4</td>\n",
              "      <td>4.600</td>\n",
              "      <td>4.9</td>\n",
              "    </tr>\n",
              "    <tr>\n",
              "      <th>ART_AND_DESIGN</th>\n",
              "      <td>61.0</td>\n",
              "      <td>4.357377</td>\n",
              "      <td>0.361229</td>\n",
              "      <td>3.2</td>\n",
              "      <td>4.100</td>\n",
              "      <td>4.4</td>\n",
              "      <td>4.700</td>\n",
              "      <td>5.0</td>\n",
              "    </tr>\n",
              "    <tr>\n",
              "      <th>BOOKS_AND_REFERENCE</th>\n",
              "      <td>169.0</td>\n",
              "      <td>4.344970</td>\n",
              "      <td>0.437649</td>\n",
              "      <td>2.7</td>\n",
              "      <td>4.100</td>\n",
              "      <td>4.5</td>\n",
              "      <td>4.600</td>\n",
              "      <td>5.0</td>\n",
              "    </tr>\n",
              "    <tr>\n",
              "      <th>PERSONALIZATION</th>\n",
              "      <td>298.0</td>\n",
              "      <td>4.332215</td>\n",
              "      <td>0.358968</td>\n",
              "      <td>2.5</td>\n",
              "      <td>4.200</td>\n",
              "      <td>4.4</td>\n",
              "      <td>4.600</td>\n",
              "      <td>5.0</td>\n",
              "    </tr>\n",
              "    <tr>\n",
              "      <th>PARENTING</th>\n",
              "      <td>50.0</td>\n",
              "      <td>4.300000</td>\n",
              "      <td>0.517845</td>\n",
              "      <td>2.0</td>\n",
              "      <td>4.100</td>\n",
              "      <td>4.4</td>\n",
              "      <td>4.675</td>\n",
              "      <td>5.0</td>\n",
              "    </tr>\n",
              "    <tr>\n",
              "      <th>BEAUTY</th>\n",
              "      <td>42.0</td>\n",
              "      <td>4.278571</td>\n",
              "      <td>0.362603</td>\n",
              "      <td>3.1</td>\n",
              "      <td>4.000</td>\n",
              "      <td>4.3</td>\n",
              "      <td>4.575</td>\n",
              "      <td>4.9</td>\n",
              "    </tr>\n",
              "    <tr>\n",
              "      <th>GAME</th>\n",
              "      <td>912.0</td>\n",
              "      <td>4.247368</td>\n",
              "      <td>0.384116</td>\n",
              "      <td>1.0</td>\n",
              "      <td>4.100</td>\n",
              "      <td>4.3</td>\n",
              "      <td>4.500</td>\n",
              "      <td>5.0</td>\n",
              "    </tr>\n",
              "    <tr>\n",
              "      <th>SOCIAL</th>\n",
              "      <td>203.0</td>\n",
              "      <td>4.247291</td>\n",
              "      <td>0.457209</td>\n",
              "      <td>1.9</td>\n",
              "      <td>4.100</td>\n",
              "      <td>4.3</td>\n",
              "      <td>4.500</td>\n",
              "      <td>5.0</td>\n",
              "    </tr>\n",
              "    <tr>\n",
              "      <th>WEATHER</th>\n",
              "      <td>72.0</td>\n",
              "      <td>4.243056</td>\n",
              "      <td>0.337692</td>\n",
              "      <td>3.3</td>\n",
              "      <td>4.000</td>\n",
              "      <td>4.3</td>\n",
              "      <td>4.500</td>\n",
              "      <td>4.8</td>\n",
              "    </tr>\n",
              "    <tr>\n",
              "      <th>HEALTH_AND_FITNESS</th>\n",
              "      <td>244.0</td>\n",
              "      <td>4.243033</td>\n",
              "      <td>0.668818</td>\n",
              "      <td>1.4</td>\n",
              "      <td>4.100</td>\n",
              "      <td>4.5</td>\n",
              "      <td>4.600</td>\n",
              "      <td>5.0</td>\n",
              "    </tr>\n",
              "    <tr>\n",
              "      <th>SHOPPING</th>\n",
              "      <td>180.0</td>\n",
              "      <td>4.230000</td>\n",
              "      <td>0.445198</td>\n",
              "      <td>1.6</td>\n",
              "      <td>4.100</td>\n",
              "      <td>4.3</td>\n",
              "      <td>4.500</td>\n",
              "      <td>5.0</td>\n",
              "    </tr>\n",
              "    <tr>\n",
              "      <th>SPORTS</th>\n",
              "      <td>260.0</td>\n",
              "      <td>4.216154</td>\n",
              "      <td>0.462627</td>\n",
              "      <td>1.5</td>\n",
              "      <td>4.000</td>\n",
              "      <td>4.3</td>\n",
              "      <td>4.500</td>\n",
              "      <td>5.0</td>\n",
              "    </tr>\n",
              "    <tr>\n",
              "      <th>AUTO_AND_VEHICLES</th>\n",
              "      <td>73.0</td>\n",
              "      <td>4.190411</td>\n",
              "      <td>0.543692</td>\n",
              "      <td>2.1</td>\n",
              "      <td>4.000</td>\n",
              "      <td>4.3</td>\n",
              "      <td>4.600</td>\n",
              "      <td>4.9</td>\n",
              "    </tr>\n",
              "    <tr>\n",
              "      <th>PRODUCTIVITY</th>\n",
              "      <td>301.0</td>\n",
              "      <td>4.183389</td>\n",
              "      <td>0.534281</td>\n",
              "      <td>1.0</td>\n",
              "      <td>4.000</td>\n",
              "      <td>4.3</td>\n",
              "      <td>4.500</td>\n",
              "      <td>5.0</td>\n",
              "    </tr>\n",
              "    <tr>\n",
              "      <th>COMICS</th>\n",
              "      <td>54.0</td>\n",
              "      <td>4.181481</td>\n",
              "      <td>0.526317</td>\n",
              "      <td>2.8</td>\n",
              "      <td>3.900</td>\n",
              "      <td>4.4</td>\n",
              "      <td>4.500</td>\n",
              "      <td>5.0</td>\n",
              "    </tr>\n",
              "    <tr>\n",
              "      <th>FAMILY</th>\n",
              "      <td>1608.0</td>\n",
              "      <td>4.179664</td>\n",
              "      <td>0.523323</td>\n",
              "      <td>1.0</td>\n",
              "      <td>4.000</td>\n",
              "      <td>4.3</td>\n",
              "      <td>4.500</td>\n",
              "      <td>5.0</td>\n",
              "    </tr>\n",
              "    <tr>\n",
              "      <th>LIBRARIES_AND_DEMO</th>\n",
              "      <td>64.0</td>\n",
              "      <td>4.178125</td>\n",
              "      <td>0.381504</td>\n",
              "      <td>3.1</td>\n",
              "      <td>3.975</td>\n",
              "      <td>4.2</td>\n",
              "      <td>4.400</td>\n",
              "      <td>5.0</td>\n",
              "    </tr>\n",
              "    <tr>\n",
              "      <th>FOOD_AND_DRINK</th>\n",
              "      <td>94.0</td>\n",
              "      <td>4.172340</td>\n",
              "      <td>0.566901</td>\n",
              "      <td>1.7</td>\n",
              "      <td>4.000</td>\n",
              "      <td>4.3</td>\n",
              "      <td>4.500</td>\n",
              "      <td>5.0</td>\n",
              "    </tr>\n",
              "    <tr>\n",
              "      <th>MEDICAL</th>\n",
              "      <td>290.0</td>\n",
              "      <td>4.166552</td>\n",
              "      <td>0.690984</td>\n",
              "      <td>1.0</td>\n",
              "      <td>3.900</td>\n",
              "      <td>4.3</td>\n",
              "      <td>4.600</td>\n",
              "      <td>5.0</td>\n",
              "    </tr>\n",
              "    <tr>\n",
              "      <th>PHOTOGRAPHY</th>\n",
              "      <td>263.0</td>\n",
              "      <td>4.157414</td>\n",
              "      <td>0.494331</td>\n",
              "      <td>2.0</td>\n",
              "      <td>4.000</td>\n",
              "      <td>4.3</td>\n",
              "      <td>4.500</td>\n",
              "      <td>5.0</td>\n",
              "    </tr>\n",
              "    <tr>\n",
              "      <th>HOUSE_AND_HOME</th>\n",
              "      <td>62.0</td>\n",
              "      <td>4.150000</td>\n",
              "      <td>0.379711</td>\n",
              "      <td>2.8</td>\n",
              "      <td>3.925</td>\n",
              "      <td>4.2</td>\n",
              "      <td>4.475</td>\n",
              "      <td>4.8</td>\n",
              "    </tr>\n",
              "    <tr>\n",
              "      <th>ENTERTAINMENT</th>\n",
              "      <td>102.0</td>\n",
              "      <td>4.135294</td>\n",
              "      <td>0.328407</td>\n",
              "      <td>3.0</td>\n",
              "      <td>3.900</td>\n",
              "      <td>4.2</td>\n",
              "      <td>4.300</td>\n",
              "      <td>4.7</td>\n",
              "    </tr>\n",
              "    <tr>\n",
              "      <th>NEWS_AND_MAGAZINES</th>\n",
              "      <td>204.0</td>\n",
              "      <td>4.121569</td>\n",
              "      <td>0.566578</td>\n",
              "      <td>1.7</td>\n",
              "      <td>3.900</td>\n",
              "      <td>4.2</td>\n",
              "      <td>4.500</td>\n",
              "      <td>5.0</td>\n",
              "    </tr>\n",
              "    <tr>\n",
              "      <th>COMMUNICATION</th>\n",
              "      <td>256.0</td>\n",
              "      <td>4.121484</td>\n",
              "      <td>0.470260</td>\n",
              "      <td>1.0</td>\n",
              "      <td>4.000</td>\n",
              "      <td>4.2</td>\n",
              "      <td>4.400</td>\n",
              "      <td>5.0</td>\n",
              "    </tr>\n",
              "    <tr>\n",
              "      <th>FINANCE</th>\n",
              "      <td>302.0</td>\n",
              "      <td>4.115563</td>\n",
              "      <td>0.659147</td>\n",
              "      <td>1.0</td>\n",
              "      <td>3.925</td>\n",
              "      <td>4.3</td>\n",
              "      <td>4.500</td>\n",
              "      <td>5.0</td>\n",
              "    </tr>\n",
              "    <tr>\n",
              "      <th>BUSINESS</th>\n",
              "      <td>263.0</td>\n",
              "      <td>4.098479</td>\n",
              "      <td>0.659862</td>\n",
              "      <td>1.0</td>\n",
              "      <td>3.800</td>\n",
              "      <td>4.2</td>\n",
              "      <td>4.500</td>\n",
              "      <td>5.0</td>\n",
              "    </tr>\n",
              "    <tr>\n",
              "      <th>LIFESTYLE</th>\n",
              "      <td>301.0</td>\n",
              "      <td>4.093355</td>\n",
              "      <td>0.704951</td>\n",
              "      <td>1.5</td>\n",
              "      <td>3.800</td>\n",
              "      <td>4.2</td>\n",
              "      <td>4.600</td>\n",
              "      <td>5.0</td>\n",
              "    </tr>\n",
              "    <tr>\n",
              "      <th>TRAVEL_AND_LOCAL</th>\n",
              "      <td>187.0</td>\n",
              "      <td>4.069519</td>\n",
              "      <td>0.532070</td>\n",
              "      <td>2.2</td>\n",
              "      <td>3.800</td>\n",
              "      <td>4.2</td>\n",
              "      <td>4.400</td>\n",
              "      <td>5.0</td>\n",
              "    </tr>\n",
              "    <tr>\n",
              "      <th>VIDEO_PLAYERS</th>\n",
              "      <td>148.0</td>\n",
              "      <td>4.044595</td>\n",
              "      <td>0.563792</td>\n",
              "      <td>1.8</td>\n",
              "      <td>3.775</td>\n",
              "      <td>4.2</td>\n",
              "      <td>4.400</td>\n",
              "      <td>4.9</td>\n",
              "    </tr>\n",
              "    <tr>\n",
              "      <th>TOOLS</th>\n",
              "      <td>718.0</td>\n",
              "      <td>4.039554</td>\n",
              "      <td>0.620272</td>\n",
              "      <td>1.0</td>\n",
              "      <td>3.800</td>\n",
              "      <td>4.2</td>\n",
              "      <td>4.400</td>\n",
              "      <td>5.0</td>\n",
              "    </tr>\n",
              "    <tr>\n",
              "      <th>MAPS_AND_NAVIGATION</th>\n",
              "      <td>118.0</td>\n",
              "      <td>4.036441</td>\n",
              "      <td>0.527316</td>\n",
              "      <td>1.9</td>\n",
              "      <td>3.700</td>\n",
              "      <td>4.2</td>\n",
              "      <td>4.400</td>\n",
              "      <td>4.9</td>\n",
              "    </tr>\n",
              "    <tr>\n",
              "      <th>DATING</th>\n",
              "      <td>134.0</td>\n",
              "      <td>3.970149</td>\n",
              "      <td>0.637786</td>\n",
              "      <td>1.0</td>\n",
              "      <td>3.600</td>\n",
              "      <td>4.1</td>\n",
              "      <td>4.400</td>\n",
              "      <td>5.0</td>\n",
              "    </tr>\n",
              "  </tbody>\n",
              "</table>\n",
              "</div>\n",
              "      <button class=\"colab-df-convert\" onclick=\"convertToInteractive('df-6053275b-e28a-4cf5-80db-83a49cb22612')\"\n",
              "              title=\"Convert this dataframe to an interactive table.\"\n",
              "              style=\"display:none;\">\n",
              "        \n",
              "  <svg xmlns=\"http://www.w3.org/2000/svg\" height=\"24px\"viewBox=\"0 0 24 24\"\n",
              "       width=\"24px\">\n",
              "    <path d=\"M0 0h24v24H0V0z\" fill=\"none\"/>\n",
              "    <path d=\"M18.56 5.44l.94 2.06.94-2.06 2.06-.94-2.06-.94-.94-2.06-.94 2.06-2.06.94zm-11 1L8.5 8.5l.94-2.06 2.06-.94-2.06-.94L8.5 2.5l-.94 2.06-2.06.94zm10 10l.94 2.06.94-2.06 2.06-.94-2.06-.94-.94-2.06-.94 2.06-2.06.94z\"/><path d=\"M17.41 7.96l-1.37-1.37c-.4-.4-.92-.59-1.43-.59-.52 0-1.04.2-1.43.59L10.3 9.45l-7.72 7.72c-.78.78-.78 2.05 0 2.83L4 21.41c.39.39.9.59 1.41.59.51 0 1.02-.2 1.41-.59l7.78-7.78 2.81-2.81c.8-.78.8-2.07 0-2.86zM5.41 20L4 18.59l7.72-7.72 1.47 1.35L5.41 20z\"/>\n",
              "  </svg>\n",
              "      </button>\n",
              "      \n",
              "  <style>\n",
              "    .colab-df-container {\n",
              "      display:flex;\n",
              "      flex-wrap:wrap;\n",
              "      gap: 12px;\n",
              "    }\n",
              "\n",
              "    .colab-df-convert {\n",
              "      background-color: #E8F0FE;\n",
              "      border: none;\n",
              "      border-radius: 50%;\n",
              "      cursor: pointer;\n",
              "      display: none;\n",
              "      fill: #1967D2;\n",
              "      height: 32px;\n",
              "      padding: 0 0 0 0;\n",
              "      width: 32px;\n",
              "    }\n",
              "\n",
              "    .colab-df-convert:hover {\n",
              "      background-color: #E2EBFA;\n",
              "      box-shadow: 0px 1px 2px rgba(60, 64, 67, 0.3), 0px 1px 3px 1px rgba(60, 64, 67, 0.15);\n",
              "      fill: #174EA6;\n",
              "    }\n",
              "\n",
              "    [theme=dark] .colab-df-convert {\n",
              "      background-color: #3B4455;\n",
              "      fill: #D2E3FC;\n",
              "    }\n",
              "\n",
              "    [theme=dark] .colab-df-convert:hover {\n",
              "      background-color: #434B5C;\n",
              "      box-shadow: 0px 1px 3px 1px rgba(0, 0, 0, 0.15);\n",
              "      filter: drop-shadow(0px 1px 2px rgba(0, 0, 0, 0.3));\n",
              "      fill: #FFFFFF;\n",
              "    }\n",
              "  </style>\n",
              "\n",
              "      <script>\n",
              "        const buttonEl =\n",
              "          document.querySelector('#df-6053275b-e28a-4cf5-80db-83a49cb22612 button.colab-df-convert');\n",
              "        buttonEl.style.display =\n",
              "          google.colab.kernel.accessAllowed ? 'block' : 'none';\n",
              "\n",
              "        async function convertToInteractive(key) {\n",
              "          const element = document.querySelector('#df-6053275b-e28a-4cf5-80db-83a49cb22612');\n",
              "          const dataTable =\n",
              "            await google.colab.kernel.invokeFunction('convertToInteractive',\n",
              "                                                     [key], {});\n",
              "          if (!dataTable) return;\n",
              "\n",
              "          const docLinkHtml = 'Like what you see? Visit the ' +\n",
              "            '<a target=\"_blank\" href=https://colab.research.google.com/notebooks/data_table.ipynb>data table notebook</a>'\n",
              "            + ' to learn more about interactive tables.';\n",
              "          element.innerHTML = '';\n",
              "          dataTable['output_type'] = 'display_data';\n",
              "          await google.colab.output.renderOutput(dataTable, element);\n",
              "          const docLink = document.createElement('div');\n",
              "          docLink.innerHTML = docLinkHtml;\n",
              "          element.appendChild(docLink);\n",
              "        }\n",
              "      </script>\n",
              "    </div>\n",
              "  </div>\n",
              "  "
            ]
          },
          "metadata": {},
          "execution_count": 41
        }
      ],
      "source": [
        "stats = df.groupby('Category').describe()['Rating'].sort_values(by='mean', ascending=False)\n",
        "stats"
      ]
    },
    {
      "cell_type": "markdown",
      "id": "several-multimedia",
      "metadata": {
        "id": "several-multimedia"
      },
      "source": [
        "Vamos considerar que as melhores categorias são aquelas que possuem as maiores **médias**."
      ]
    },
    {
      "cell_type": "markdown",
      "id": "fatty-manchester",
      "metadata": {
        "id": "fatty-manchester"
      },
      "source": [
        "Ao computar a _média das avaliações por categoria_ e ordenar pela **maior média**, constatamos que a categoria \"EVENTS\" possui a maior média. <br/>\n",
        "Mas, **não** é possível afirmar que essa é a _categoria melhor avaliada **apenas olhando para estes resultados**_, pois **o tamanho de cada amostra/grupo** (i.e., a quantidade de aplicativos por categoria) é diferente. Além disso, o **desvio padrão** também muda de categoria para categoria.<br/>\n",
        "\n",
        "P. ex., a categoria \"EVENTS\" possui 45 apps, enquanto \"BOOKS_AND_REFERENCE\" possui 169.\n",
        "\n",
        "Precisaríamos rodar algum **teste estatístico específico**, p. ex., para ter essa certeza. <br/>"
      ]
    },
    {
      "cell_type": "markdown",
      "id": "latin-establishment",
      "metadata": {
        "id": "latin-establishment"
      },
      "source": [
        "Por ora, vamos simplificar e assumir que apenas analisar esses resultados é suficiente para decidirmos quais são as categorias melhores avaliadas."
      ]
    },
    {
      "cell_type": "code",
      "execution_count": null,
      "id": "revised-estate",
      "metadata": {
        "colab": {
          "base_uri": "https://localhost:8080/",
          "height": 634
        },
        "id": "revised-estate",
        "outputId": "8315c006-cc34-4ea2-b965-98acffd593ef"
      },
      "outputs": [
        {
          "output_type": "display_data",
          "data": {
            "text/plain": [
              "<Figure size 1440x720 with 1 Axes>"
            ],
            "image/png": "[encoded data removed]"
          },
          "metadata": {}
        }
      ],
      "source": [
        "plt.figure(figsize=(20,10))\n",
        "order = stats.sort_values(by='mean', ascending=False).index\n",
        "# topo de cada barra mostra a média das avaliações para cada categoria\n",
        "# o risco no topo da barra indica seu respectivo desvio padrão (parâmetro ci='sd')\n",
        "sns.barplot(data=df, x='Rating', y='Category', ci='sd', color = base_color, order = order)\n",
        "plt.xlabel('Avaliação (Nota Média)')\n",
        "plt.ylabel('Categoria')\n",
        "plt.title('Avaliações das Categorias', fontsize=20)\n",
        "plt.show()"
      ]
    },
    {
      "cell_type": "markdown",
      "id": "hawaiian-lounge",
      "metadata": {
        "id": "hawaiian-lounge"
      },
      "source": [
        "Ao analisar o boxplot, podemos nota que algumas categorias (p.ex., 'HEALTH_AND_FITNESS') possuem um **desvio padrão** um pouco maior do que as demais categorias. <br/>\n",
        "Vamos dar uma olhada na distribuição das notas de uma dessas categorias apenas para ter um sentimento do que está acontecendo."
      ]
    },
    {
      "cell_type": "code",
      "execution_count": null,
      "id": "accepting-hopkins",
      "metadata": {
        "id": "accepting-hopkins"
      },
      "outputs": [],
      "source": [
        "### Vamos analisar a categoria HELATH_AND_FITNESS, pq ela tem um std grande (caso específico)\n",
        "sns.boxplot(data=df.query('Category == \"HEALTH_AND_FITNESS\"'), x='Rating', color=base_color)\n",
        "plt.show()"
      ]
    },
    {
      "cell_type": "markdown",
      "id": "portable-fighter",
      "metadata": {
        "id": "portable-fighter"
      },
      "source": [
        "**Como as avaliações se distribuem em cada categoria?**"
      ]
    },
    {
      "cell_type": "code",
      "execution_count": null,
      "id": "charming-ecology",
      "metadata": {
        "colab": {
          "base_uri": "https://localhost:8080/",
          "height": 720
        },
        "id": "charming-ecology",
        "outputId": "e1aa3f6e-49ac-43b4-e73a-a2ce18db43e4"
      },
      "outputs": [
        {
          "output_type": "display_data",
          "data": {
            "text/plain": [
              "<Figure size 1440x864 with 1 Axes>"
            ],
            "image/png": "[encoded data removed]"
          },
          "metadata": {}
        }
      ],
      "source": [
        "plt.figure(figsize=(20, 12))\n",
        "sns.boxplot(data=df, x='Rating', y='Category', color = base_color)\n",
        "plt.show()"
      ]
    },
    {
      "cell_type": "markdown",
      "id": "hidden-passing",
      "metadata": {
        "id": "hidden-passing"
      },
      "source": [
        "Para obter uma análise visual mais interessante, podemos ordenar os boxplots (ou violion plots) de acordo com algum critério. <br/>\n",
        "Por exemplo, podemos ordená-los pela _mediana_ de cada categoria a fim de analisar, p. ex., como estão distribuídos _a metade dos apps mais bem avaliados_ de cada categoria, além de **diminuir o impacto de outliers** na distribuição."
      ]
    },
    {
      "cell_type": "code",
      "execution_count": null,
      "id": "adequate-northwest",
      "metadata": {
        "id": "adequate-northwest"
      },
      "outputs": [],
      "source": [
        "# ordenando pela mediana\n",
        "order = stats.sort_values(by='50%').index\n",
        "plt.figure(figsize=(20, 12))\n",
        "sns.boxplot(data=df, x='Rating', y='Category', order=order, color=base_color)\n",
        "plt.show()"
      ]
    },
    {
      "cell_type": "markdown",
      "id": "parliamentary-integration",
      "metadata": {
        "id": "parliamentary-integration"
      },
      "source": [
        "Ao analisar os boxplots, vemos que as categorias *BOOKS_AND_REFERENCE* e *HEALTH_AND_FITNESS* possuem uma quantidade considerável de apps muito bem avaliados --- ~50% de seus apps possuem avaliação >- 4.5. Entretanto, a **variância** (dispersão) de suas avaliações é **muito alta**, vários _outliers_. <br/>\n",
        "\n",
        "Vamos agora analisar o mesmo gráfico mas com as categorias organizadas pela **média** das avaliações."
      ]
    },
    {
      "cell_type": "code",
      "execution_count": null,
      "id": "conditional-nicaragua",
      "metadata": {
        "colab": {
          "base_uri": "https://localhost:8080/",
          "height": 720
        },
        "id": "conditional-nicaragua",
        "outputId": "e1b8367a-cc12-4bba-fea1-33613de91d26"
      },
      "outputs": [
        {
          "output_type": "display_data",
          "data": {
            "text/plain": [
              "<Figure size 1440x864 with 1 Axes>"
            ],
            "image/png": "[encoded data removed]"
          },
          "metadata": {}
        }
      ],
      "source": [
        "# ordenando pela média\n",
        "order = stats.sort_values(by='mean').index\n",
        "\n",
        "plt.figure(figsize=(20, 12))\n",
        "sns.boxplot(x='Rating', y='Category', data=df, order=order, color=base_color)\n",
        "plt.show()"
      ]
    },
    {
      "cell_type": "markdown",
      "id": "noticed-mileage",
      "metadata": {
        "id": "noticed-mileage"
      },
      "source": [
        "Note que como a **média** é _sensível a outliers_, as categorias 'BOOKS_AND_REFERENCES_ e, principalmente, 'HEALTH_AND_FITNESS_ perderam posições. Categorias bem avaliadas e com poucos outliers (p. ex., 'EDUCATION' e 'EVENTS') apresentam médias maiores.\n",
        "\n",
        "Em resumo, esta maneira de organizar e visualizar este gráfico é interessante quando você quer considerar o impacto dos outliers da variável analisada. A visualização anterior, ordenando pelas medianas, visa o oposto."
      ]
    },
    {
      "cell_type": "markdown",
      "id": "e4cf9208-1a26-4d06-aae9-be293f11ff32",
      "metadata": {
        "id": "e4cf9208-1a26-4d06-aae9-be293f11ff32"
      },
      "source": [
        "### CATEGORY vs REVIEWS"
      ]
    },
    {
      "cell_type": "markdown",
      "id": "62be0c64-23d3-4c2e-9e75-3e2c2b223c1d",
      "metadata": {
        "id": "62be0c64-23d3-4c2e-9e75-3e2c2b223c1d"
      },
      "source": [
        "**Quais categorias recebem mais comentários?**"
      ]
    },
    {
      "cell_type": "code",
      "execution_count": 7,
      "id": "c55f1f57-1fb7-48d6-a602-29b4819950af",
      "metadata": {
        "colab": {
          "base_uri": "https://localhost:8080/"
        },
        "id": "c55f1f57-1fb7-48d6-a602-29b4819950af",
        "outputId": "3b2e9426-632e-480f-bec4-5d6c8a63b1eb"
      },
      "outputs": [
        {
          "output_type": "execute_result",
          "data": {
            "text/plain": [
              "Category\n",
              "GAME                   622298709.0\n",
              "COMMUNICATION          285811368.0\n",
              "TOOLS                  229356578.0\n",
              "SOCIAL                 227927801.0\n",
              "FAMILY                 143825488.0\n",
              "PHOTOGRAPHY            105351270.0\n",
              "VIDEO_PLAYERS           67484568.0\n",
              "PRODUCTIVITY            55590649.0\n",
              "PERSONALIZATION         53543080.0\n",
              "SHOPPING                44551730.0\n",
              "SPORTS                  35348813.0\n",
              "ENTERTAINMENT           34762650.0\n",
              "TRAVEL_AND_LOCAL        26819741.0\n",
              "NEWS_AND_MAGAZINES      23130228.0\n",
              "HEALTH_AND_FITNESS      21361355.0\n",
              "MAPS_AND_NAVIGATION     17729148.0\n",
              "BOOKS_AND_REFERENCE     16721314.0\n",
              "EDUCATION               13364148.0\n",
              "FINANCE                 12662106.0\n",
              "WEATHER                 12295164.0\n",
              "LIFESTYLE               11832671.0\n",
              "BUSINESS                 9890245.0\n",
              "FOOD_AND_DRINK           6325028.0\n",
              "DATING                   3623544.0\n",
              "COMICS                   2342071.0\n",
              "HOUSE_AND_HOME           1929847.0\n",
              "ART_AND_DESIGN           1419203.0\n",
              "MEDICAL                  1182971.0\n",
              "AUTO_AND_VEHICLES        1163666.0\n",
              "PARENTING                 958331.0\n",
              "LIBRARIES_AND_DEMO        906831.0\n",
              "BEAUTY                    396240.0\n",
              "EVENTS                    161018.0\n",
              "Name: Reviews, dtype: float64"
            ]
          },
          "metadata": {},
          "execution_count": 7
        }
      ],
      "source": [
        "topreview = df.groupby(['Category'])['Reviews'].sum().sort_values(ascending=False)\n",
        "topreview"
      ]
    },
    {
      "cell_type": "markdown",
      "id": "1f0bb57e-b4d0-4aba-9452-d107beea16ea",
      "metadata": {
        "id": "1f0bb57e-b4d0-4aba-9452-d107beea16ea"
      },
      "source": [
        "### CATEGORY vs INSTALLS"
      ]
    },
    {
      "cell_type": "markdown",
      "id": "ac4cfb3c-781b-48e7-9199-47d64587fac9",
      "metadata": {
        "id": "ac4cfb3c-781b-48e7-9199-47d64587fac9"
      },
      "source": [
        "**Quais categorias possuem mais downloads?**"
      ]
    },
    {
      "cell_type": "code",
      "execution_count": 8,
      "id": "b88b68bf-1f02-423c-b918-1a7c5e9a9bf0",
      "metadata": {
        "colab": {
          "base_uri": "https://localhost:8080/"
        },
        "id": "b88b68bf-1f02-423c-b918-1a7c5e9a9bf0",
        "outputId": "7c881680-9bf3-4024-863e-9c58983d1798"
      },
      "outputs": [
        {
          "output_type": "execute_result",
          "data": {
            "text/plain": [
              "Category\n",
              "GAME                   13878924415\n",
              "COMMUNICATION          11038276251\n",
              "TOOLS                   8001771915\n",
              "PRODUCTIVITY            5793091369\n",
              "SOCIAL                  5487867902\n",
              "PHOTOGRAPHY             4649147655\n",
              "FAMILY                  4427941505\n",
              "VIDEO_PLAYERS           3926902720\n",
              "TRAVEL_AND_LOCAL        2894887146\n",
              "NEWS_AND_MAGAZINES      2369217760\n",
              "ENTERTAINMENT           2113660000\n",
              "BOOKS_AND_REFERENCE     1665969576\n",
              "PERSONALIZATION         1532494782\n",
              "SHOPPING                1400348785\n",
              "HEALTH_AND_FITNESS      1144022512\n",
              "SPORTS                  1096474498\n",
              "BUSINESS                 697164865\n",
              "LIFESTYLE                503823539\n",
              "MAPS_AND_NAVIGATION      503281890\n",
              "FINANCE                  455348734\n",
              "WEATHER                  361100520\n",
              "EDUCATION                352952000\n",
              "FOOD_AND_DRINK           211798751\n",
              "DATING                   140926107\n",
              "ART_AND_DESIGN           114338100\n",
              "HOUSE_AND_HOME            97212461\n",
              "AUTO_AND_VEHICLES         53130211\n",
              "LIBRARIES_AND_DEMO        52995910\n",
              "COMICS                    44981150\n",
              "MEDICAL                   38193177\n",
              "PARENTING                 31521110\n",
              "BEAUTY                    27197050\n",
              "EVENTS                    15973161\n",
              "Name: Installs, dtype: int64"
            ]
          },
          "metadata": {},
          "execution_count": 8
        }
      ],
      "source": [
        "topdownload = df.groupby(['Category'])['Installs'].sum().sort_values(ascending=False)\n",
        "topdownload"
      ]
    },
    {
      "cell_type": "markdown",
      "id": "f8ea4ae3-3c52-40cd-8167-805f0006f260",
      "metadata": {
        "id": "f8ea4ae3-3c52-40cd-8167-805f0006f260"
      },
      "source": [
        "`Conside que o app mais popular é o mais baixado e que possui a melhor avaliação (rating)`. </br>\n",
        "**Neste contexto, mostre quais são os 10 apps mais populares**."
      ]
    },
    {
      "cell_type": "code",
      "source": [
        "topdownloadapp = df.groupby(['App'])['Installs'].sum().sort_values(ascending=False)\n",
        "topdownloadapp\n"
      ],
      "metadata": {
        "colab": {
          "base_uri": "https://localhost:8080/"
        },
        "id": "K3wmqxo4Ryul",
        "outputId": "fb71c274-4b81-4f04-d83e-8555b06f697d"
      },
      "id": "K3wmqxo4Ryul",
      "execution_count": 11,
      "outputs": [
        {
          "output_type": "execute_result",
          "data": {
            "text/plain": [
              "App\n",
              "Google Photos                1000000000\n",
              "Google+                      1000000000\n",
              "Google Drive                 1000000000\n",
              "Gmail                        1000000000\n",
              "Google News                  1000000000\n",
              "                                ...    \n",
              "EG | Explore Folegandros              0\n",
              "Sweden Newspapers                     0\n",
              "AP Series Solution Pro                0\n",
              "Eu Sou Rico                           0\n",
              "Command & Conquer: Rivals             0\n",
              "Name: Installs, Length: 9659, dtype: int64"
            ]
          },
          "metadata": {},
          "execution_count": 11
        }
      ]
    },
    {
      "cell_type": "code",
      "source": [
        "topratingapp = df.groupby(['App'])['Rating'].sum().sort_values(ascending=False)\n",
        "topratingapp\n"
      ],
      "metadata": {
        "colab": {
          "base_uri": "https://localhost:8080/"
        },
        "id": "e8AOAmixtYfh",
        "outputId": "28603426-a130-4cdd-dffa-99c87b8c7786"
      },
      "id": "e8AOAmixtYfh",
      "execution_count": 12,
      "outputs": [
        {
          "output_type": "execute_result",
          "data": {
            "text/plain": [
              "App\n",
              "Comunidad De Fe Minitries                           5.0\n",
              "Tablet Reminder                                     5.0\n",
              "Noticias FC Barcelona                               5.0\n",
              "Superheroes, Marvel, DC, Comics, TV, Movies News    5.0\n",
              "DC N COMPANY ENTERTAINMENT RADIO!                   5.0\n",
              "                                                   ... \n",
              "DK Childcare Centers                                0.0\n",
              "Pediatric Emergency Guide                           0.0\n",
              "Pekalongan CJ                                       0.0\n",
              "Penn State Health OnDemand                          0.0\n",
              "\"i DT\" Fútbol. Todos Somos Técnicos.                0.0\n",
              "Name: Rating, Length: 9659, dtype: float64"
            ]
          },
          "metadata": {},
          "execution_count": 12
        }
      ]
    },
    {
      "cell_type": "markdown",
      "id": "825bcd46-2deb-41b4-a3b8-869fb322e92c",
      "metadata": {
        "id": "825bcd46-2deb-41b4-a3b8-869fb322e92c"
      },
      "source": [
        "**Pesquise e apresente uma forma mostrar quais os termos(palavras) mais usadas em nomes de apps.**"
      ]
    },
    {
      "cell_type": "code",
      "execution_count": 21,
      "id": "ebf4e8ab-3566-40f5-b40b-4f8fb266ec55",
      "metadata": {
        "id": "ebf4e8ab-3566-40f5-b40b-4f8fb266ec55",
        "colab": {
          "base_uri": "https://localhost:8080/"
        },
        "outputId": "e124d689-f5e5-4d92-b53f-3a4892160b43"
      },
      "outputs": [
        {
          "output_type": "stream",
          "name": "stdout",
          "text": [
            "[nltk_data] Downloading package punkt to /root/nltk_data...\n",
            "[nltk_data]   Unzipping tokenizers/punkt.zip.\n",
            "[nltk_data] Downloading package stopwords to /root/nltk_data...\n",
            "[nltk_data]   Unzipping corpora/stopwords.zip.\n"
          ]
        }
      ],
      "source": [
        "import pandas as pd\n",
        "import nltk\n",
        "import re\n",
        "import string\n",
        "from nltk.corpus import stopwords\n",
        "nltk.download('punkt')\n",
        "nltk.download('stopwords')\n",
        "from nltk.tokenize import word_tokenize"
      ]
    },
    {
      "cell_type": "code",
      "source": [
        "dt = df['App']\n",
        "\n",
        "from collections import Counter\n",
        "p = Counter(\" \".join(dt).split()).most_common(10)\n",
        "rslt = pd.DataFrame(p, columns=['Word', 'Frequency'])\n",
        "print(rslt)"
      ],
      "metadata": {
        "colab": {
          "base_uri": "https://localhost:8080/"
        },
        "id": "Bdip2naLCx9O",
        "outputId": "89f436c2-c911-47b6-edf4-61f6b79b869b"
      },
      "id": "Bdip2naLCx9O",
      "execution_count": 22,
      "outputs": [
        {
          "output_type": "stream",
          "name": "stdout",
          "text": [
            "     Word  Frequency\n",
            "0       -       1375\n",
            "1       &        694\n",
            "2     for        452\n",
            "3    Free        297\n",
            "4     and        237\n",
            "5     App        209\n",
            "6  Mobile        185\n",
            "7     Pro        154\n",
            "8     The        144\n",
            "9      of        133\n"
          ]
        }
      ]
    }
  ],
  "metadata": {
    "kernelspec": {
      "display_name": "Python 3",
      "language": "python",
      "name": "python3"
    },
    "language_info": {
      "codemirror_mode": {
        "name": "ipython",
        "version": 3
      },
      "file_extension": ".py",
      "mimetype": "text/x-python",
      "name": "python",
      "nbconvert_exporter": "python",
      "pygments_lexer": "ipython3",
      "version": "3.8.6"
    },
    "colab": {
      "name": "ead-1.1.ipynb",
      "provenance": [],
      "collapsed_sections": [
        "f5d6257f-a300-41fa-ab5a-2ec8703d461e",
        "a5c0d246-792c-480f-80df-1786db301e20",
        "2f65f783-35cb-4136-95b9-5e831cf730c4",
        "44f219de-3b55-45ec-965d-9891d7b7b4f1",
        "8313e380-6817-424f-84e9-3ccba58f3953",
        "167c1975-6358-47b3-9273-8de48cc6e78e",
        "299dc51c-21a2-411e-bd7b-2cd7b02d8f03"
      ],
      "include_colab_link": true
    }
  },
  "nbformat": 4,
  "nbformat_minor": 5
}